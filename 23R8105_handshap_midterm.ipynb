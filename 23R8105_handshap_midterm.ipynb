{
  "nbformat": 4,
  "nbformat_minor": 0,
  "metadata": {
    "colab": {
      "provenance": [],
      "collapsed_sections": [
        "OPlhdGVPg-X7",
        "2g3UZ3BYhIoM",
        "m3FULnxBnvSm",
        "_qZofcNUrDtw",
        "rJxUr6FhzbMF",
        "MJ6dwbOHrkiB",
        "H5q6ndf8sSEz",
        "yqac-A6pso4t",
        "85fzbUW5sqNV",
        "mBOMa9Nvsu8_",
        "w4W8Py7A4y0B",
        "etLXXOpS7PYH",
        "jk79h_NG8nf9",
        "Fd9pnk1y-T1z",
        "Qd0p1EXRMYHC",
        "IIBrsvPXO8Aq",
        "qCiyuog5OwFp",
        "-aNxV4OoP-A6",
        "VtmQo_rwQJLQ",
        "qaPeow09S7yj",
        "S1o2k7l2YbQ9",
        "KVy9OCNIULbZ",
        "8JzCvUFkdhnY",
        "PXCULOHgdxYu",
        "ri4retJLmrP5",
        "xv0Pe8yDnb__",
        "6KN_DEk0nmy3",
        "TiWq36F5mvc9",
        "dLDq1vUpwJ4e",
        "RJHsbB6AwPrv",
        "NgwFCOtrwezt",
        "N41d5iXSwxKF",
        "5UTv440dw8Hc",
        "oeKVe_XAxGdf",
        "LHZOCD-f15f_",
        "Uwiz670l2szb",
        "dgk0wsrpo-C5"
      ],
      "authorship_tag": "ABX9TyO3T5v+i1YbkNdzejWlm83S",
      "include_colab_link": true
    },
    "kernelspec": {
      "name": "python3",
      "display_name": "Python 3"
    },
    "language_info": {
      "name": "python"
    }
  },
  "cells": [
    {
      "cell_type": "markdown",
      "metadata": {
        "id": "view-in-github",
        "colab_type": "text"
      },
      "source": [
        "<a href=\"https://colab.research.google.com/github/HOSEI-UNIV-IIST/introduction_to_ml_with_python/blob/master/23R8105_handshap_midterm.ipynb\" target=\"_parent\"><img src=\"https://colab.research.google.com/assets/colab-badge.svg\" alt=\"Open In Colab\"/></a>"
      ]
    },
    {
      "cell_type": "code",
      "execution_count": null,
      "metadata": {
        "id": "ahL_otzVx2NN"
      },
      "outputs": [],
      "source": [
        "# !unzip handshapedata\\ \\(1\\).zip"
      ]
    },
    {
      "cell_type": "markdown",
      "source": [
        "# Import libraries"
      ],
      "metadata": {
        "id": "OPlhdGVPg-X7"
      }
    },
    {
      "cell_type": "code",
      "source": [
        "import os\n",
        "import numpy as np\n",
        "from skimage import io  # Using skimage to read images, but you can use other libraries like OpenCV or PIL\n",
        "import matplotlib.pyplot as plt\n",
        "import seaborn as sns\n",
        "import pandas as pd"
      ],
      "metadata": {
        "id": "WUOJG6HIgnd9"
      },
      "execution_count": null,
      "outputs": []
    },
    {
      "cell_type": "markdown",
      "source": [
        "# TASK 1"
      ],
      "metadata": {
        "id": "ttAS6oiToEsp"
      }
    },
    {
      "cell_type": "markdown",
      "source": [
        "## Reading of data\n",
        "\n",
        "1. Navigate Through the Folder Hierarchy:\n",
        "2. Create an Image-File List:\n",
        "3. Load Images & Assign Labels:"
      ],
      "metadata": {
        "id": "2g3UZ3BYhIoM"
      }
    },
    {
      "cell_type": "code",
      "source": [
        "from google.colab import drive\n",
        "drive.mount('/content/drive')\n",
        "\n",
        "\n",
        "# Base path where 'handshapedata' is located\n",
        "#base_path = './handshapedata'\n",
        "base_path = '/content/drive/MyDrive/handshapedata'\n",
        "\n",
        "# Lists to store image data and labels\n",
        "images = []\n",
        "labels = []\n",
        "\n",
        "# Navigating through the folders\n",
        "for main_folder in sorted(os.listdir(base_path)):  # Assuming folders are like m01, m02,...,m16\n",
        "    main_folder_path = os.path.join(base_path, main_folder)\n",
        "\n",
        "    # Check if it's a folder (to avoid reading any other files accidentally)\n",
        "    if os.path.isdir(main_folder_path):\n",
        "        for sub_folder in sorted(os.listdir(main_folder_path)):  # Sub-folders are 0 to 5\n",
        "            sub_folder_path = os.path.join(main_folder_path, sub_folder)\n",
        "\n",
        "            # Reading images from the sub-folder\n",
        "            for img_file in sorted(os.listdir(sub_folder_path)):\n",
        "                if img_file.endswith(\".png\"):  # Check if the file is an image\n",
        "                    img_path = os.path.join(sub_folder_path, img_file)\n",
        "\n",
        "                    # Load the image\n",
        "                    img = io.imread(img_path)\n",
        "                    images.append(img)\n",
        "\n",
        "                    # Assign label based on the sub-folder name\n",
        "                    labels.append(int(sub_folder))\n"
      ],
      "metadata": {
        "id": "gQJ-N-opdxI-",
        "colab": {
          "base_uri": "https://localhost:8080/"
        },
        "outputId": "23050609-1b26-47e5-b762-254781867dd5"
      },
      "execution_count": null,
      "outputs": [
        {
          "output_type": "stream",
          "name": "stdout",
          "text": [
            "Mounted at /content/drive\n"
          ]
        }
      ]
    },
    {
      "cell_type": "code",
      "source": [
        "# Unmount Google Drive\n",
        "drive.flush_and_unmount()"
      ],
      "metadata": {
        "id": "eFjMOIX_ZDOa"
      },
      "execution_count": null,
      "outputs": []
    },
    {
      "cell_type": "markdown",
      "source": [
        "## Convert lists of images to numpy arrays\n",
        "- images array\n",
        "- labels array"
      ],
      "metadata": {
        "id": "2FMrOLOZhtdL"
      }
    },
    {
      "cell_type": "code",
      "source": [
        "# Convert lists to numpy arrays\n",
        "images_np = np.array(images)\n",
        "labels_np = np.array(labels)"
      ],
      "metadata": {
        "id": "jqo5S_20hhs-"
      },
      "execution_count": null,
      "outputs": []
    },
    {
      "cell_type": "markdown",
      "source": [
        "### Describing the Data"
      ],
      "metadata": {
        "id": "4wFH87gdiKRN"
      }
    },
    {
      "cell_type": "markdown",
      "source": [
        "#### - Find out the number of images.\n",
        "#### - Determine the shape of an individual image.\n",
        "#### - Inspect the unique labels."
      ],
      "metadata": {
        "id": "CHruBWG5iV94"
      }
    },
    {
      "cell_type": "code",
      "source": [
        "print(f\"Total number of images: {images_np.shape[0]}\")\n",
        "print(f\"Shape of an individual image: {images_np[0].shape}\")\n",
        "print(f\"Unique labels: {np.unique(labels_np)}\")\n"
      ],
      "metadata": {
        "colab": {
          "base_uri": "https://localhost:8080/"
        },
        "id": "Z2fU5OI2iP0Y",
        "outputId": "06d54a73-f934-4436-bf8d-ef8e746793ba"
      },
      "execution_count": null,
      "outputs": [
        {
          "output_type": "stream",
          "name": "stdout",
          "text": [
            "Total number of images: 9600\n",
            "Shape of an individual image: (40, 40, 3)\n",
            "Unique labels: [0 1 2 3 4 5]\n"
          ]
        }
      ]
    },
    {
      "cell_type": "markdown",
      "source": [
        "### Visualizing the Data"
      ],
      "metadata": {
        "id": "ESK0oApZitKW"
      }
    },
    {
      "cell_type": "markdown",
      "source": [
        "Display the first few images."
      ],
      "metadata": {
        "id": "uc2tNxHui40m"
      }
    },
    {
      "cell_type": "code",
      "source": [
        "fig, axs = plt.subplots(1, 5, figsize=(15, 5))\n",
        "for i in range(5):\n",
        "    axs[i].imshow(images_np[i], cmap='gray')  # assuming grayscale images\n",
        "    axs[i].set_title(f\"Label: {labels_np[i]}\")\n",
        "    axs[i].axis('off')\n",
        "plt.tight_layout()\n",
        "plt.show()"
      ],
      "metadata": {
        "colab": {
          "base_uri": "https://localhost:8080/",
          "height": 304
        },
        "id": "f60TKkqfi-qs",
        "outputId": "23eeba51-3f05-4163-8a3d-a798d1542c4a"
      },
      "execution_count": null,
      "outputs": [
        {
          "output_type": "display_data",
          "data": {
            "text/plain": [
              "<Figure size 1500x500 with 5 Axes>"
            ],
            "image/png": "[encoded data removed]"
          },
          "metadata": {}
        }
      ]
    },
    {
      "cell_type": "markdown",
      "source": [
        "Show the distribution of labels."
      ],
      "metadata": {
        "id": "QNdK5Neni8Z0"
      }
    },
    {
      "cell_type": "code",
      "source": [
        "plt.figure(figsize=(10, 5))\n",
        "plt.hist(labels_np, bins=np.arange(-0.5, 6.5, 1), rwidth=0.8)\n",
        "plt.xticks(np.arange(0, 6))\n",
        "plt.xlabel('Label')\n",
        "plt.ylabel('Number of Images')\n",
        "plt.title('Distribution of Labels')\n",
        "plt.grid(axis='y')\n",
        "plt.show()"
      ],
      "metadata": {
        "colab": {
          "base_uri": "https://localhost:8080/",
          "height": 487
        },
        "id": "1TVns8YFjEUq",
        "outputId": "ff77f1f6-444d-405e-c739-99384885e0a3"
      },
      "execution_count": null,
      "outputs": [
        {
          "output_type": "display_data",
          "data": {
            "text/plain": [
              "<Figure size 1000x500 with 1 Axes>"
            ],
            "image/png": "[encoded data removed]"
          },
          "metadata": {}
        }
      ]
    },
    {
      "cell_type": "markdown",
      "source": [
        "# TASK 2"
      ],
      "metadata": {
        "id": "Ir6yTrI-oznc"
      }
    },
    {
      "cell_type": "markdown",
      "source": [
        "### In this part, we're going to explore deeply five classification algorithms:\n",
        "1. Convolutional Neural Networks (CNNs)\n",
        "2. Support Vector Machines (SVMs)\n",
        "3. Random Forests\n",
        "4. k-Nearest Neighbors (k-NN)\n",
        "5. Logistic Regression"
      ],
      "metadata": {
        "id": "bxl80U22ptxv"
      }
    },
    {
      "cell_type": "markdown",
      "source": [
        "## Apply machine learning classification and show accuracy on the randomly-selected 20% test images."
      ],
      "metadata": {
        "id": "m3FULnxBnvSm"
      }
    },
    {
      "cell_type": "markdown",
      "source": [
        "### To apply machine learning classification and evaluate its accuracy on the 20% test images, we need to:\n",
        "\n",
        " - Split the dataset into 80% training and 20% testing.\n",
        " - Train a classifier on the training data.\n",
        " - Evaluate the classifier on the test data and report the accuracy.\n",
        "\n",
        "For simplicity, we choose to start with Random Forest Classifier, as it doesn't require much parameter tuning to get started.✌️\n",
        "\n",
        "For more detail: [Random Forest Classifier](https://scikit-learn.org/stable/modules/generated/sklearn.ensemble.RandomForestClassifier.html)"
      ],
      "metadata": {
        "id": "AyIrtvIbqFh1"
      }
    },
    {
      "cell_type": "markdown",
      "source": [
        "### SKLearn is our best friend here, so import require librairies"
      ],
      "metadata": {
        "id": "_qZofcNUrDtw"
      }
    },
    {
      "cell_type": "code",
      "source": [
        "from sklearn.ensemble import RandomForestClassifier\n",
        "from sklearn.model_selection import train_test_split\n",
        "from sklearn.metrics import accuracy_score"
      ],
      "metadata": {
        "id": "V94CgnmjpHf4"
      },
      "execution_count": null,
      "outputs": []
    },
    {
      "cell_type": "markdown",
      "source": [
        "### Reshape the images array from 4D to 2D\n",
        "Also, we can just skip this by using image_np.shape[0]\n",
        "\n",
        "Basicaly, current shape is like: num_samples, height, width, channels"
      ],
      "metadata": {
        "id": "rJxUr6FhzbMF"
      }
    },
    {
      "cell_type": "code",
      "source": [
        "# Reshape the images_np array to 2D\n",
        "num_samples, height, width, channels = images_np.shape\n",
        "images_reshaped = images_np.reshape(num_samples, height * width * channels)\n",
        "\n",
        "# Copy reshaped images and labels we processed earlier\n",
        "X = images_reshaped.copy()\n",
        "y = labels_np.copy()"
      ],
      "metadata": {
        "id": "M0b120_X0Bj4"
      },
      "execution_count": null,
      "outputs": []
    },
    {
      "cell_type": "markdown",
      "source": [
        "### Split the data into training and testing sets"
      ],
      "metadata": {
        "id": "MJ6dwbOHrkiB"
      }
    },
    {
      "cell_type": "code",
      "source": [
        "# Split the new data\n",
        "X_train, X_test, y_train, y_test = train_test_split(X, y, test_size=0.2, random_state=42)"
      ],
      "metadata": {
        "id": "iY9NCWP-rXHb"
      },
      "execution_count": null,
      "outputs": []
    },
    {
      "cell_type": "markdown",
      "source": [
        "### Initialize a random forest classifier"
      ],
      "metadata": {
        "id": "H5q6ndf8sSEz"
      }
    },
    {
      "cell_type": "code",
      "source": [
        "# We keep random_state for reproduction the same result\n",
        "clf = RandomForestClassifier(n_estimators=100, random_state=42)"
      ],
      "metadata": {
        "id": "_PsNIEOWsxel"
      },
      "execution_count": null,
      "outputs": []
    },
    {
      "cell_type": "markdown",
      "source": [
        "### Train the classifier"
      ],
      "metadata": {
        "id": "yqac-A6pso4t"
      }
    },
    {
      "cell_type": "code",
      "source": [
        "clf.fit(X_train, y_train)"
      ],
      "metadata": {
        "colab": {
          "base_uri": "https://localhost:8080/"
        },
        "id": "pLrVDJssuZIg",
        "outputId": "013fe02c-659f-4911-f75c-f152ff000f48"
      },
      "execution_count": null,
      "outputs": [
        {
          "output_type": "execute_result",
          "data": {
            "text/plain": [
              "RandomForestClassifier(random_state=42)"
            ],
            "text/html": [
              "<style>#sk-container-id-1 {color: black;background-color: white;}#sk-container-id-1 pre{padding: 0;}#sk-container-id-1 div.sk-toggleable {background-color: white;}#sk-container-id-1 label.sk-toggleable__label {cursor: pointer;display: block;width: 100%;margin-bottom: 0;padding: 0.3em;box-sizing: border-box;text-align: center;}#sk-container-id-1 label.sk-toggleable__label-arrow:before {content: \"▸\";float: left;margin-right: 0.25em;color: #696969;}#sk-container-id-1 label.sk-toggleable__label-arrow:hover:before {color: black;}#sk-container-id-1 div.sk-estimator:hover label.sk-toggleable__label-arrow:before {color: black;}#sk-container-id-1 div.sk-toggleable__content {max-height: 0;max-width: 0;overflow: hidden;text-align: left;background-color: #f0f8ff;}#sk-container-id-1 div.sk-toggleable__content pre {margin: 0.2em;color: black;border-radius: 0.25em;background-color: #f0f8ff;}#sk-container-id-1 input.sk-toggleable__control:checked~div.sk-toggleable__content {max-height: 200px;max-width: 100%;overflow: auto;}#sk-container-id-1 input.sk-toggleable__control:checked~label.sk-toggleable__label-arrow:before {content: \"▾\";}#sk-container-id-1 div.sk-estimator input.sk-toggleable__control:checked~label.sk-toggleable__label {background-color: #d4ebff;}#sk-container-id-1 div.sk-label input.sk-toggleable__control:checked~label.sk-toggleable__label {background-color: #d4ebff;}#sk-container-id-1 input.sk-hidden--visually {border: 0;clip: rect(1px 1px 1px 1px);clip: rect(1px, 1px, 1px, 1px);height: 1px;margin: -1px;overflow: hidden;padding: 0;position: absolute;width: 1px;}#sk-container-id-1 div.sk-estimator {font-family: monospace;background-color: #f0f8ff;border: 1px dotted black;border-radius: 0.25em;box-sizing: border-box;margin-bottom: 0.5em;}#sk-container-id-1 div.sk-estimator:hover {background-color: #d4ebff;}#sk-container-id-1 div.sk-parallel-item::after {content: \"\";width: 100%;border-bottom: 1px solid gray;flex-grow: 1;}#sk-container-id-1 div.sk-label:hover label.sk-toggleable__label {background-color: #d4ebff;}#sk-container-id-1 div.sk-serial::before {content: \"\";position: absolute;border-left: 1px solid gray;box-sizing: border-box;top: 0;bottom: 0;left: 50%;z-index: 0;}#sk-container-id-1 div.sk-serial {display: flex;flex-direction: column;align-items: center;background-color: white;padding-right: 0.2em;padding-left: 0.2em;position: relative;}#sk-container-id-1 div.sk-item {position: relative;z-index: 1;}#sk-container-id-1 div.sk-parallel {display: flex;align-items: stretch;justify-content: center;background-color: white;position: relative;}#sk-container-id-1 div.sk-item::before, #sk-container-id-1 div.sk-parallel-item::before {content: \"\";position: absolute;border-left: 1px solid gray;box-sizing: border-box;top: 0;bottom: 0;left: 50%;z-index: -1;}#sk-container-id-1 div.sk-parallel-item {display: flex;flex-direction: column;z-index: 1;position: relative;background-color: white;}#sk-container-id-1 div.sk-parallel-item:first-child::after {align-self: flex-end;width: 50%;}#sk-container-id-1 div.sk-parallel-item:last-child::after {align-self: flex-start;width: 50%;}#sk-container-id-1 div.sk-parallel-item:only-child::after {width: 0;}#sk-container-id-1 div.sk-dashed-wrapped {border: 1px dashed gray;margin: 0 0.4em 0.5em 0.4em;box-sizing: border-box;padding-bottom: 0.4em;background-color: white;}#sk-container-id-1 div.sk-label label {font-family: monospace;font-weight: bold;display: inline-block;line-height: 1.2em;}#sk-container-id-1 div.sk-label-container {text-align: center;}#sk-container-id-1 div.sk-container {/* jupyter's `normalize.less` sets `[hidden] { display: none; }` but bootstrap.min.css set `[hidden] { display: none !important; }` so we also need the `!important` here to be able to override the default hidden behavior on the sphinx rendered scikit-learn.org. See: https://github.com/scikit-learn/scikit-learn/issues/21755 */display: inline-block !important;position: relative;}#sk-container-id-1 div.sk-text-repr-fallback {display: none;}</style><div id=\"sk-container-id-1\" class=\"sk-top-container\"><div class=\"sk-text-repr-fallback\"><pre>RandomForestClassifier(random_state=42)</pre><b>In a Jupyter environment, please rerun this cell to show the HTML representation or trust the notebook. <br />On GitHub, the HTML representation is unable to render, please try loading this page with nbviewer.org.</b></div><div class=\"sk-container\" hidden><div class=\"sk-item\"><div class=\"sk-estimator sk-toggleable\"><input class=\"sk-toggleable__control sk-hidden--visually\" id=\"sk-estimator-id-1\" type=\"checkbox\" checked><label for=\"sk-estimator-id-1\" class=\"sk-toggleable__label sk-toggleable__label-arrow\">RandomForestClassifier</label><div class=\"sk-toggleable__content\"><pre>RandomForestClassifier(random_state=42)</pre></div></div></div></div></div>"
            ]
          },
          "metadata": {},
          "execution_count": 19
        }
      ]
    },
    {
      "cell_type": "markdown",
      "source": [
        "### Predict on the test data"
      ],
      "metadata": {
        "id": "85fzbUW5sqNV"
      }
    },
    {
      "cell_type": "code",
      "source": [
        "y_pred = clf.predict(X_test)\n",
        "y_pred"
      ],
      "metadata": {
        "colab": {
          "base_uri": "https://localhost:8080/"
        },
        "id": "4B9HzdOe0Ovk",
        "outputId": "5d5e87e4-4a6c-4f5d-bb68-1f2b16efc47f"
      },
      "execution_count": null,
      "outputs": [
        {
          "output_type": "execute_result",
          "data": {
            "text/plain": [
              "array([1, 5, 0, ..., 2, 0, 1])"
            ]
          },
          "metadata": {},
          "execution_count": 20
        }
      ]
    },
    {
      "cell_type": "markdown",
      "source": [
        "### Calculate the accuracy"
      ],
      "metadata": {
        "id": "mBOMa9Nvsu8_"
      }
    },
    {
      "cell_type": "code",
      "source": [
        "# Calculate the accuracy: Number of Correct Prediction / Number of Total Prediction\n",
        "accuracy = accuracy_score(y_test, y_pred)\n",
        "print(f\"Accuracy: {accuracy * 100:.2f}%\")"
      ],
      "metadata": {
        "colab": {
          "base_uri": "https://localhost:8080/"
        },
        "id": "JfkefVc1sIYW",
        "outputId": "2d27a914-0a08-498e-8b97-67b9eca3f49c"
      },
      "execution_count": null,
      "outputs": [
        {
          "output_type": "stream",
          "name": "stdout",
          "text": [
            "Accuracy: 98.59%\n"
          ]
        }
      ]
    },
    {
      "cell_type": "markdown",
      "source": [
        "### Understanding the Accuracy with 1.41% or error\n",
        "\n",
        "98.59 an impressive accuracywhich means that the classification model chose (Random Forest Classifier) correctly predicted the class labels for approximately 98.59% of the test samples in our dataset. This suggests that the model has learned the patterns in the training data quite well and is able to generalize effectively to unseen data.\n",
        "\n",
        "However, It might be overfitted. Wen cannot talk about Imballanced dataset since our data is well distributed as we seen in #Task1.\n",
        "\n",
        "Let's take a few time to do Error Analysis to understand deeply."
      ],
      "metadata": {
        "id": "Dpacvmxq3fxb"
      }
    },
    {
      "cell_type": "markdown",
      "source": [
        "#### 1) Confusion Matrix: to understand which classes are confused by our model"
      ],
      "metadata": {
        "id": "w4W8Py7A4y0B"
      }
    },
    {
      "cell_type": "code",
      "source": [
        "from sklearn.metrics import confusion_matrix\n",
        "\n",
        "cm = confusion_matrix(y_test, y_pred)\n",
        "sns.heatmap(cm, annot=True, fmt='g', cmap='Blues',\n",
        "            linewidths=0.2, linecolor='gray')\n",
        "plt.xlabel('Predicted labels')\n",
        "plt.ylabel('True labels')\n",
        "plt.show()\n"
      ],
      "metadata": {
        "colab": {
          "base_uri": "https://localhost:8080/"
        },
        "id": "_R5iqBYv5D75",
        "outputId": "62cade2c-b58d-47de-a2c7-bacfd0ea0e7d"
      },
      "execution_count": null,
      "outputs": [
        {
          "output_type": "display_data",
          "data": {
            "text/plain": [
              "<Figure size 640x480 with 2 Axes>"
            ],
            "image/png": "[encoded data removed]"
          },
          "metadata": {}
        }
      ]
    },
    {
      "cell_type": "markdown",
      "source": [
        "#### 2) Analyze Individual Mistakes: to provide insight into why certain errors might be occurring"
      ],
      "metadata": {
        "id": "etLXXOpS7PYH"
      }
    },
    {
      "cell_type": "code",
      "source": [
        "misclassified_idx = np.where(y_test != y_pred)[0]\n",
        "sample_idx = np.random.choice(misclassified_idx, 10)  # Showing some random misclassified images\n",
        "\n",
        "plt.figure(figsize=(15, 5))  # Adjust the figure size to comfortably fit the images\n",
        "\n",
        "for i, idx in enumerate(sample_idx):\n",
        "    plt.subplot(1, 10, i + 1)  # 1 row, 10 columns, current column (i+1)\n",
        "    plt.imshow(images_np[idx], cmap='gray')\n",
        "    plt.title(f\"True: {y_test[idx]}, Pred: {y_pred[idx]}\")\n",
        "    plt.axis('off')\n",
        "\n",
        "plt.tight_layout()\n",
        "plt.show()"
      ],
      "metadata": {
        "colab": {
          "base_uri": "https://localhost:8080/"
        },
        "id": "YRBJbwAk7Jm1",
        "outputId": "4e62a0a5-8965-4cf2-ee2b-5cff3916933f"
      },
      "execution_count": null,
      "outputs": [
        {
          "output_type": "display_data",
          "data": {
            "text/plain": [
              "<Figure size 1500x500 with 10 Axes>"
            ],
            "image/png": "[encoded data removed]"
          },
          "metadata": {}
        }
      ]
    },
    {
      "cell_type": "markdown",
      "source": [
        "#### 3) Class Distribution"
      ],
      "metadata": {
        "id": "jk79h_NG8nf9"
      }
    },
    {
      "cell_type": "code",
      "source": [
        "# pd.Series(y_test).value_counts().plot()\n",
        "pd.Series(y_test).value_counts().plot(kind='pie', autopct='%1.1f%%', startangle=90)\n",
        "plt.title('Class distribution in test data')\n",
        "plt.show()"
      ],
      "metadata": {
        "colab": {
          "base_uri": "https://localhost:8080/"
        },
        "id": "QNCfMMsr9Jde",
        "outputId": "c475ae01-016d-4e3d-eed4-d4600859bc1b"
      },
      "execution_count": null,
      "outputs": [
        {
          "output_type": "display_data",
          "data": {
            "text/plain": [
              "<Figure size 640x480 with 1 Axes>"
            ],
            "image/png": "[encoded data removed]"
          },
          "metadata": {}
        }
      ]
    },
    {
      "cell_type": "markdown",
      "source": [
        "#### 4) Performance metric: to make sure our error produced is or not a problem even if we can stop here since our test data is not imbalanced."
      ],
      "metadata": {
        "id": "Fd9pnk1y-T1z"
      }
    },
    {
      "cell_type": "code",
      "source": [
        "from sklearn.metrics import classification_report\n",
        "\n",
        "print(classification_report(y_test, y_pred))\n"
      ],
      "metadata": {
        "colab": {
          "base_uri": "https://localhost:8080/"
        },
        "id": "u5gPakHA-iuK",
        "outputId": "c34db376-6ddb-4878-a0a1-a9b95b4f254b"
      },
      "execution_count": null,
      "outputs": [
        {
          "output_type": "stream",
          "name": "stdout",
          "text": [
            "              precision    recall  f1-score   support\n",
            "\n",
            "           0       0.98      1.00      0.99       327\n",
            "           1       0.99      1.00      1.00       310\n",
            "           2       0.99      0.99      0.99       305\n",
            "           3       0.98      0.97      0.97       329\n",
            "           4       0.98      0.97      0.97       337\n",
            "           5       0.99      0.99      0.99       312\n",
            "\n",
            "    accuracy                           0.99      1920\n",
            "   macro avg       0.99      0.99      0.99      1920\n",
            "weighted avg       0.99      0.99      0.99      1920\n",
            "\n"
          ]
        }
      ]
    },
    {
      "cell_type": "markdown",
      "source": [
        "Precision, Recall, and F1-score for Each Class (0 through 5)\n",
        "\n",
        "**Precision**: Out of all the predictions made for a particular class, how many were correct. here, our algorithm returned substantially more relevant results than irrelevant ones.\n",
        "\n",
        "**Recall** (or Sensitivity): Out of all the actual instances of a class, how many were correctly predicted by the model. Here, Random Forest algorithm returned most of the relevant results.\n",
        "\n",
        "**F1-score**: Harmonic mean of precision and recall, it provides a single score that balances both the concerns of precision and recall in one number.\n",
        "\n",
        "**Support**: The number of actual occurrences of the class in the dataset.\n",
        "From the table, it appears that each class has high precision, recall, and F1-score values, close to 1. This indicates a strong performance in the classification task for each individual class."
      ],
      "metadata": {
        "id": "MZy02r2jAODv"
      }
    },
    {
      "cell_type": "markdown",
      "source": [
        "From Confusion Matrix to Performance metric, we can conclude that our model works well without overfitting."
      ],
      "metadata": {
        "id": "J-ORgDak_t35"
      }
    },
    {
      "cell_type": "markdown",
      "source": [
        "However, while the numbers look excellent, our position is to make sure to test the model in real-world scenarios or with unseen data to ensure its true performance. 🤝"
      ],
      "metadata": {
        "id": "Ya47T62RBQQ4"
      }
    },
    {
      "cell_type": "markdown",
      "source": [
        "## Study deeply three or more classifying algorithms, and be ready to explain them to the class."
      ],
      "metadata": {
        "id": "BtNVhnFdn1CR"
      }
    },
    {
      "cell_type": "markdown",
      "source": [
        "#### Importation of common Necessary Libraries"
      ],
      "metadata": {
        "id": "Qd0p1EXRMYHC"
      }
    },
    {
      "cell_type": "code",
      "source": [
        "# CNN\n",
        "import tensorflow as tf\n",
        "from tensorflow.keras.models import Sequential\n",
        "from tensorflow.keras.layers import Conv2D, MaxPooling2D, Flatten, Dense\n",
        "\n",
        "\n",
        "# SVM, RandomForest\n",
        "from sklearn.model_selection import train_test_split, GridSearchCV, RandomizedSearchCV, cross_val_score\n",
        "from sklearn.preprocessing import StandardScaler\n",
        "from sklearn.svm import SVC\n",
        "from sklearn.metrics import accuracy_score\n",
        "from hyperopt import fmin, tpe, hp, STATUS_OK, Trials\n",
        "from scipy.stats import reciprocal, uniform\n",
        "\n",
        "from sklearn.ensemble import RandomForestClassifier\n",
        "\n",
        "#!pip install bayesian-optimization\n",
        "from bayes_opt import BayesianOptimization\n"
      ],
      "metadata": {
        "colab": {
          "base_uri": "https://localhost:8080/"
        },
        "id": "tELiyGJDpIGo",
        "outputId": "10783901-20f0-4a6a-e506-704ede4ed611"
      },
      "execution_count": null,
      "outputs": [
        {
          "output_type": "stream",
          "name": "stdout",
          "text": [
            "Collecting bayesian-optimization\n",
            "  Downloading bayesian_optimization-1.4.3-py3-none-any.whl (18 kB)\n",
            "Requirement already satisfied: numpy>=1.9.0 in /usr/local/lib/python3.10/dist-packages (from bayesian-optimization) (1.23.5)\n",
            "Requirement already satisfied: scipy>=1.0.0 in /usr/local/lib/python3.10/dist-packages (from bayesian-optimization) (1.11.3)\n",
            "Requirement already satisfied: scikit-learn>=0.18.0 in /usr/local/lib/python3.10/dist-packages (from bayesian-optimization) (1.2.2)\n",
            "Collecting colorama>=0.4.6 (from bayesian-optimization)\n",
            "  Downloading colorama-0.4.6-py2.py3-none-any.whl (25 kB)\n",
            "Requirement already satisfied: joblib>=1.1.1 in /usr/local/lib/python3.10/dist-packages (from scikit-learn>=0.18.0->bayesian-optimization) (1.3.2)\n",
            "Requirement already satisfied: threadpoolctl>=2.0.0 in /usr/local/lib/python3.10/dist-packages (from scikit-learn>=0.18.0->bayesian-optimization) (3.2.0)\n",
            "Installing collected packages: colorama, bayesian-optimization\n",
            "Successfully installed bayesian-optimization-1.4.3 colorama-0.4.6\n"
          ]
        }
      ]
    },
    {
      "cell_type": "markdown",
      "source": [
        "#### Splitting the data for all models"
      ],
      "metadata": {
        "id": "IIBrsvPXO8Aq"
      }
    },
    {
      "cell_type": "code",
      "source": [
        "# Reshaping images\n",
        "#num_samples, height, width, channels = images_np.shape\n",
        "#images_reshaped = images_np.reshape(num_samples, height * width * channels)\n",
        "\n",
        "# Copy reshaped images and labels we processed earlier\n",
        "X = images_np\n",
        "y = labels_np\n",
        "\n",
        "# Splitting the dataset\n",
        "from sklearn.model_selection import train_test_split\n",
        "X_train, X_test, y_train, y_test = train_test_split(X, y, test_size=0.2, random_state=42)"
      ],
      "metadata": {
        "id": "4tQE1JErPFKu"
      },
      "execution_count": null,
      "outputs": []
    },
    {
      "cell_type": "markdown",
      "source": [
        "### Convolutional Neural Networks (CNNs) Study"
      ],
      "metadata": {
        "id": "XEmzQcTaMNzj"
      }
    },
    {
      "cell_type": "markdown",
      "source": [
        "#### 1) Importation of CNNs libs"
      ],
      "metadata": {
        "id": "qCiyuog5OwFp"
      }
    },
    {
      "cell_type": "code",
      "source": [
        "from keras.models import Sequential\n",
        "from keras.layers import Conv2D, MaxPooling2D, Flatten, Dense"
      ],
      "metadata": {
        "id": "Eq1GlrLFMi4I"
      },
      "execution_count": null,
      "outputs": []
    },
    {
      "cell_type": "markdown",
      "source": [
        "#### 2) Data Processing"
      ],
      "metadata": {
        "id": "-aNxV4OoP-A6"
      }
    },
    {
      "cell_type": "code",
      "source": [
        "# Check if images are RGB or not by looking into their shape\n",
        "\n",
        "if len(X[0].shape) == 3:\n",
        "    if X[0].shape[2] == 3:\n",
        "        print(\"The images are RGB.\")\n",
        "    elif X[0].shape[2] == 1:\n",
        "        print(\"The images are grayscale.\")\n",
        "else:\n",
        "    print(\"The images are grayscale.\")"
      ],
      "metadata": {
        "colab": {
          "base_uri": "https://localhost:8080/"
        },
        "id": "tVnKT4ZvQwiQ",
        "outputId": "2fd6699a-2cf3-4de1-f4f4-9f206c8f4614"
      },
      "execution_count": null,
      "outputs": [
        {
          "output_type": "stream",
          "name": "stdout",
          "text": [
            "The images are RGB.\n"
          ]
        }
      ]
    },
    {
      "cell_type": "code",
      "source": [
        "# Normalize the images\n",
        "X_train = X_train.astype('float32') / 255.0\n",
        "X_test = X_test.astype('float32') / 255.0\n",
        "\n",
        "# One-hot encode the labels\n",
        "from keras.utils import to_categorical\n",
        "y_train_encoded = to_categorical(y_train)\n",
        "y_test_encoded = to_categorical(y_test)"
      ],
      "metadata": {
        "id": "tYkaKZzcQBYJ"
      },
      "execution_count": null,
      "outputs": []
    },
    {
      "cell_type": "markdown",
      "source": [
        "#### 3) Building the CNN"
      ],
      "metadata": {
        "id": "VtmQo_rwQJLQ"
      }
    },
    {
      "cell_type": "code",
      "source": [
        "cnn_model = Sequential()\n",
        "cnn_model.add(Conv2D(32, (3, 3), activation='relu', input_shape=(height, width, channels)))\n",
        "cnn_model.add(MaxPooling2D((2, 2)))\n",
        "cnn_model.add(Conv2D(64, (3, 3), activation='relu'))\n",
        "cnn_model.add(MaxPooling2D((2, 2)))\n",
        "cnn_model.add(Conv2D(64, (3, 3), activation='relu'))\n",
        "cnn_model.add(Flatten())\n",
        "cnn_model.add(Dense(64, activation='relu'))\n",
        "cnn_model.add(Dense(6, activation='softmax')) # 6 classes for hand shapes"
      ],
      "metadata": {
        "id": "vMhqlHt3QOXW"
      },
      "execution_count": null,
      "outputs": []
    },
    {
      "cell_type": "markdown",
      "source": [
        "#### 4) Training"
      ],
      "metadata": {
        "id": "qaPeow09S7yj"
      }
    },
    {
      "cell_type": "code",
      "source": [
        "# Compiling the model\n",
        "cnn_model.compile(optimizer='adam', loss='categorical_crossentropy', metrics=['accuracy'])\n",
        "\n",
        "# Training the model\n",
        "history = cnn_model.fit(X_train, y_train_encoded, epochs=10, batch_size=64, validation_data=(X_test, y_test_encoded))\n"
      ],
      "metadata": {
        "colab": {
          "base_uri": "https://localhost:8080/"
        },
        "id": "4S7OlEiTS_Ps",
        "outputId": "345f7cf5-c4b2-4f3b-84ee-a95472a31c98"
      },
      "execution_count": null,
      "outputs": [
        {
          "output_type": "stream",
          "name": "stdout",
          "text": [
            "Epoch 1/10\n",
            "120/120 [==============================] - 22s 176ms/step - loss: 0.7869 - accuracy: 0.7141 - val_loss: 0.2733 - val_accuracy: 0.9240\n",
            "Epoch 2/10\n",
            "120/120 [==============================] - 19s 155ms/step - loss: 0.1620 - accuracy: 0.9551 - val_loss: 0.1069 - val_accuracy: 0.9714\n",
            "Epoch 3/10\n",
            "120/120 [==============================] - 18s 150ms/step - loss: 0.0713 - accuracy: 0.9807 - val_loss: 0.0681 - val_accuracy: 0.9776\n",
            "Epoch 4/10\n",
            "120/120 [==============================] - 19s 161ms/step - loss: 0.0522 - accuracy: 0.9844 - val_loss: 0.0398 - val_accuracy: 0.9891\n",
            "Epoch 5/10\n",
            "120/120 [==============================] - 21s 178ms/step - loss: 0.0271 - accuracy: 0.9921 - val_loss: 0.0422 - val_accuracy: 0.9870\n",
            "Epoch 6/10\n",
            "120/120 [==============================] - 19s 154ms/step - loss: 0.0262 - accuracy: 0.9921 - val_loss: 0.0165 - val_accuracy: 0.9958\n",
            "Epoch 7/10\n",
            "120/120 [==============================] - 18s 150ms/step - loss: 0.0144 - accuracy: 0.9960 - val_loss: 0.0223 - val_accuracy: 0.9948\n",
            "Epoch 8/10\n",
            "120/120 [==============================] - 18s 150ms/step - loss: 0.0282 - accuracy: 0.9930 - val_loss: 0.0507 - val_accuracy: 0.9823\n",
            "Epoch 9/10\n",
            "120/120 [==============================] - 23s 190ms/step - loss: 0.0184 - accuracy: 0.9936 - val_loss: 0.0185 - val_accuracy: 0.9948\n",
            "Epoch 10/10\n",
            "120/120 [==============================] - 27s 223ms/step - loss: 0.0088 - accuracy: 0.9978 - val_loss: 0.0164 - val_accuracy: 0.9953\n"
          ]
        }
      ]
    },
    {
      "cell_type": "markdown",
      "source": [
        "#### 5) Evaluation"
      ],
      "metadata": {
        "id": "S1o2k7l2YbQ9"
      }
    },
    {
      "cell_type": "code",
      "source": [
        "# Evaluate the model\n",
        "test_loss, test_acc = cnn_model.evaluate(X_test, y_test_encoded)\n",
        "print(f\"Test accuracy: {test_acc}\")\n"
      ],
      "metadata": {
        "colab": {
          "base_uri": "https://localhost:8080/"
        },
        "id": "Xws2vQU_YdIH",
        "outputId": "6b052952-2a7c-4c13-c82b-3e0c795d1449"
      },
      "execution_count": null,
      "outputs": [
        {
          "output_type": "stream",
          "name": "stdout",
          "text": [
            "60/60 [==============================] - 3s 45ms/step - loss: 0.0164 - accuracy: 0.9953\n",
            "Test accuracy: 0.995312511920929\n"
          ]
        }
      ]
    },
    {
      "cell_type": "markdown",
      "source": [
        "#### Parameter tuning\n",
        "\n",
        "\n",
        "It is essential to optimize the performance of our CNN model with parameter tuning. To do so, we can use Keras' GridSearchCV or RandomizedSearchCV in combination with Keras' KerasClassifier wrapper for this purpose."
      ],
      "metadata": {
        "id": "KVy9OCNIULbZ"
      }
    },
    {
      "cell_type": "markdown",
      "source": [
        "##### 1. Creation of a Model Function"
      ],
      "metadata": {
        "id": "HARAAoK8Uhb3"
      }
    },
    {
      "cell_type": "code",
      "source": [
        "!pip install keras-tuner"
      ],
      "metadata": {
        "colab": {
          "base_uri": "https://localhost:8080/"
        },
        "id": "mB73ZJqRVQ0S",
        "outputId": "df3f852f-74fe-45ca-cc24-d5b137321028"
      },
      "execution_count": null,
      "outputs": [
        {
          "output_type": "stream",
          "name": "stdout",
          "text": [
            "Requirement already satisfied: keras-tuner in /usr/local/lib/python3.10/dist-packages (1.4.5)\n",
            "Requirement already satisfied: keras-core in /usr/local/lib/python3.10/dist-packages (from keras-tuner) (0.1.7)\n",
            "Requirement already satisfied: packaging in /usr/local/lib/python3.10/dist-packages (from keras-tuner) (23.2)\n",
            "Requirement already satisfied: requests in /usr/local/lib/python3.10/dist-packages (from keras-tuner) (2.31.0)\n",
            "Requirement already satisfied: kt-legacy in /usr/local/lib/python3.10/dist-packages (from keras-tuner) (1.0.5)\n",
            "Requirement already satisfied: absl-py in /usr/local/lib/python3.10/dist-packages (from keras-core->keras-tuner) (1.4.0)\n",
            "Requirement already satisfied: numpy in /usr/local/lib/python3.10/dist-packages (from keras-core->keras-tuner) (1.23.5)\n",
            "Requirement already satisfied: rich in /usr/local/lib/python3.10/dist-packages (from keras-core->keras-tuner) (13.6.0)\n",
            "Requirement already satisfied: namex in /usr/local/lib/python3.10/dist-packages (from keras-core->keras-tuner) (0.0.7)\n",
            "Requirement already satisfied: h5py in /usr/local/lib/python3.10/dist-packages (from keras-core->keras-tuner) (3.9.0)\n",
            "Requirement already satisfied: dm-tree in /usr/local/lib/python3.10/dist-packages (from keras-core->keras-tuner) (0.1.8)\n",
            "Requirement already satisfied: charset-normalizer<4,>=2 in /usr/local/lib/python3.10/dist-packages (from requests->keras-tuner) (3.3.0)\n",
            "Requirement already satisfied: idna<4,>=2.5 in /usr/local/lib/python3.10/dist-packages (from requests->keras-tuner) (3.4)\n",
            "Requirement already satisfied: urllib3<3,>=1.21.1 in /usr/local/lib/python3.10/dist-packages (from requests->keras-tuner) (2.0.6)\n",
            "Requirement already satisfied: certifi>=2017.4.17 in /usr/local/lib/python3.10/dist-packages (from requests->keras-tuner) (2023.7.22)\n",
            "Requirement already satisfied: markdown-it-py>=2.2.0 in /usr/local/lib/python3.10/dist-packages (from rich->keras-core->keras-tuner) (3.0.0)\n",
            "Requirement already satisfied: pygments<3.0.0,>=2.13.0 in /usr/local/lib/python3.10/dist-packages (from rich->keras-core->keras-tuner) (2.16.1)\n",
            "Requirement already satisfied: mdurl~=0.1 in /usr/local/lib/python3.10/dist-packages (from markdown-it-py>=2.2.0->rich->keras-core->keras-tuner) (0.1.2)\n"
          ]
        }
      ]
    },
    {
      "cell_type": "code",
      "source": [
        "import tensorflow as tf\n",
        "from tensorflow.keras.layers import Conv2D, MaxPooling2D, Flatten, Dense\n",
        "\n",
        "def create_model(optimizer='adam', conv_layers=2, filters=32):\n",
        "    model = tf.keras.Sequential()\n",
        "    model.add(Conv2D(filters, (3, 3), activation='relu', input_shape=(height, width, channels)))\n",
        "    model.add(MaxPooling2D((2, 2)))\n",
        "\n",
        "    for i in range(1, conv_layers):\n",
        "        model.add(Conv2D(filters, (3, 3), activation='relu'))\n",
        "        model.add(MaxPooling2D((2, 2)))\n",
        "\n",
        "    model.add(Flatten())\n",
        "    model.add(Dense(64, activation='relu'))\n",
        "    model.add(Dense(6, activation='softmax'))\n",
        "    model.compile(optimizer=optimizer, loss='sparse_categorical_crossentropy', metrics=['accuracy'])\n",
        "    return model\n"
      ],
      "metadata": {
        "id": "yJLYMKmgdOcl"
      },
      "execution_count": null,
      "outputs": []
    },
    {
      "cell_type": "markdown",
      "source": [
        "##### 2. Setting Up Parameter Grid\n",
        "\n",
        "For simplicity, we just tune the learning rate of the Adam optimizer."
      ],
      "metadata": {
        "id": "8JzCvUFkdhnY"
      }
    },
    {
      "cell_type": "markdown",
      "source": [
        "1. The total number of images is 9600, which means we have a decent-sized dataset. However, the resolution of the images is relatively low, with each image being 40x40 pixels. This will impact the depth of our CNN.\n",
        "2. We have 6 unique labels, which means the output layer will have **6 neurons**.\n",
        "Considering these factors, let's adjust our parameter grid:\n",
        "\n",
        " - epochs: Training for more epochs can potentially improve performance until the model starts overfitting. For a dataset of this size, 10 or 20 epochs are commonly chosen for initial exploration. If overfitting doesn't occur, we can further increase it.\n",
        " - batch_size: Given the dataset size, batch sizes of 32, 64, or 128 are reasonable choices.\n",
        " - optimizer: 'adam' and 'rmsprop' are two popular choices.\n",
        " - conv_layers: Given the image size, it might not be feasible to have many convolutional layers. Hence, 2 or 3 is a reasonable choice in our case.\n",
        " - filters: Increasing the number of filters allows the network to capture more features. Start with smaller numbers like 32 or 64 or 128 🤓."
      ],
      "metadata": {
        "id": "DXgk4W1-g2o-"
      }
    },
    {
      "cell_type": "code",
      "source": [
        "#param_grid = {\n",
        "#    'optimizer': [tf.keras.optimizers.Adam(learning_rate=lr) for lr in [0.001, 0.01]],\n",
        "#    'conv_layers': [2, 3],\n",
        "#    'filters': [32, 64]\n",
        "#}\n",
        "\n",
        "param_grid = {\n",
        "    'epochs': [10, 20, 30],\n",
        "    'batch_size': [32, 64, 128],\n",
        "    'optimizer': ['adam', 'rmsprop'],\n",
        "    'conv_layers': [2, 3],\n",
        "    'filters': [32, 64]\n",
        "}"
      ],
      "metadata": {
        "id": "gCpk7h8EUdgs"
      },
      "execution_count": null,
      "outputs": []
    },
    {
      "cell_type": "markdown",
      "source": [
        "##### 3. Hyperparameterizing Tuning with TensorFlow"
      ],
      "metadata": {
        "id": "PXCULOHgdxYu"
      }
    },
    {
      "cell_type": "code",
      "source": [
        "from keras_tuner.tuners import RandomSearch\n",
        "\n",
        "def build_model(hp):\n",
        "    optimizer = tf.keras.optimizers.Adam(learning_rate=hp.Choice('learning_rate', [0.001, 0.01]))\n",
        "    conv_layers = hp.Choice('conv_layers', [2, 3])\n",
        "    filters = hp.Choice('filters', [32, 64])\n",
        "\n",
        "    return create_model(optimizer=optimizer, conv_layers=conv_layers, filters=filters)\n",
        "\n",
        "tuner = RandomSearch(\n",
        "    build_model,\n",
        "    objective='val_accuracy',\n",
        "    max_trials=5,  # Number of model configurations\n",
        "    directory='output_dir',\n",
        "    project_name='hptune'\n",
        ")\n",
        "\n",
        "# Search for the best hyperparameters\n",
        "tuner.search(X_train, y_train, validation_data=(X_test, y_test), epochs=10, batch_size=64)\n"
      ],
      "metadata": {
        "colab": {
          "base_uri": "https://localhost:8080/"
        },
        "id": "g8dXYXq-d6GZ",
        "outputId": "d8e8e902-042c-498f-8356-3dc677b2543d"
      },
      "execution_count": null,
      "outputs": [
        {
          "output_type": "stream",
          "name": "stdout",
          "text": [
            "Using TensorFlow backend\n",
            "Reloading Tuner from output_dir/hptune/tuner0.json\n"
          ]
        }
      ]
    },
    {
      "cell_type": "markdown",
      "source": [
        "#### Comparison between the Base model and Tuning model"
      ],
      "metadata": {
        "id": "0GAy2mZih6F2"
      }
    },
    {
      "cell_type": "markdown",
      "source": [
        "##### Definition of Baseline Model Fucntion"
      ],
      "metadata": {
        "id": "ri4retJLmrP5"
      }
    },
    {
      "cell_type": "code",
      "source": [
        "def baseline_model(input_shape):\n",
        "    cnn_bm = Sequential()\n",
        "    cnn_bm.add(Conv2D(32, kernel_size=(3, 3), activation='relu', input_shape=input_shape))\n",
        "    cnn_bm.add(MaxPooling2D(pool_size=(2, 2)))\n",
        "    cnn_bm.add(Flatten())\n",
        "    cnn_bm.add(Dense(64, activation='relu'))\n",
        "    cnn_bm.add(Dense(6, activation='softmax'))  # 6 classes as per your unique labels\n",
        "    cnn_bm.compile(optimizer='adam', loss='sparse_categorical_crossentropy', metrics=['accuracy'])\n",
        "    return cnn_bm\n",
        "\n",
        "baseline = baseline_model((40, 40, 3))\n",
        "baseline.summary()"
      ],
      "metadata": {
        "colab": {
          "base_uri": "https://localhost:8080/"
        },
        "id": "dHdB3QJynI9v",
        "outputId": "5c5e2ca5-e4d9-4c5c-e8ec-1b42900f0d5d"
      },
      "execution_count": null,
      "outputs": [
        {
          "output_type": "stream",
          "name": "stdout",
          "text": [
            "Model: \"sequential_1\"\n",
            "_________________________________________________________________\n",
            " Layer (type)                Output Shape              Param #   \n",
            "=================================================================\n",
            " conv2d_3 (Conv2D)           (None, 38, 38, 32)        896       \n",
            "                                                                 \n",
            " max_pooling2d_2 (MaxPoolin  (None, 19, 19, 32)        0         \n",
            " g2D)                                                            \n",
            "                                                                 \n",
            " flatten_1 (Flatten)         (None, 11552)             0         \n",
            "                                                                 \n",
            " dense_2 (Dense)             (None, 64)                739392    \n",
            "                                                                 \n",
            " dense_3 (Dense)             (None, 6)                 390       \n",
            "                                                                 \n",
            "=================================================================\n",
            "Total params: 740678 (2.83 MB)\n",
            "Trainable params: 740678 (2.83 MB)\n",
            "Non-trainable params: 0 (0.00 Byte)\n",
            "_________________________________________________________________\n"
          ]
        }
      ]
    },
    {
      "cell_type": "markdown",
      "source": [
        "##### training the Baseline Model"
      ],
      "metadata": {
        "id": "xv0Pe8yDnb__"
      }
    },
    {
      "cell_type": "code",
      "source": [
        "cnn_baseline_history = baseline.fit(X_train, y_train, validation_data=(X_test, y_test), epochs=10, batch_size=32)"
      ],
      "metadata": {
        "colab": {
          "base_uri": "https://localhost:8080/"
        },
        "id": "3GQ0m8AonexF",
        "outputId": "e7f6eb74-f1ab-4e68-e25c-296a902019a6"
      },
      "execution_count": null,
      "outputs": [
        {
          "output_type": "stream",
          "name": "stdout",
          "text": [
            "Epoch 1/10\n",
            "240/240 [==============================] - 21s 86ms/step - loss: 0.8060 - accuracy: 0.7215 - val_loss: 0.3855 - val_accuracy: 0.9083\n",
            "Epoch 2/10\n",
            "240/240 [==============================] - 20s 84ms/step - loss: 0.2580 - accuracy: 0.9342 - val_loss: 0.2078 - val_accuracy: 0.9484\n",
            "Epoch 3/10\n",
            "240/240 [==============================] - 23s 98ms/step - loss: 0.1289 - accuracy: 0.9674 - val_loss: 0.2012 - val_accuracy: 0.9323\n",
            "Epoch 4/10\n",
            "240/240 [==============================] - 26s 109ms/step - loss: 0.0751 - accuracy: 0.9832 - val_loss: 0.0798 - val_accuracy: 0.9781\n",
            "Epoch 5/10\n",
            "240/240 [==============================] - 20s 82ms/step - loss: 0.0446 - accuracy: 0.9900 - val_loss: 0.0800 - val_accuracy: 0.9828\n",
            "Epoch 6/10\n",
            "240/240 [==============================] - 11s 46ms/step - loss: 0.0262 - accuracy: 0.9954 - val_loss: 0.0543 - val_accuracy: 0.9828\n",
            "Epoch 7/10\n",
            "240/240 [==============================] - 11s 46ms/step - loss: 0.0157 - accuracy: 0.9982 - val_loss: 0.0670 - val_accuracy: 0.9802\n",
            "Epoch 8/10\n",
            "240/240 [==============================] - 18s 75ms/step - loss: 0.0146 - accuracy: 0.9970 - val_loss: 0.0423 - val_accuracy: 0.9891\n",
            "Epoch 9/10\n",
            "240/240 [==============================] - 11s 47ms/step - loss: 0.0125 - accuracy: 0.9982 - val_loss: 0.0473 - val_accuracy: 0.9870\n",
            "Epoch 10/10\n",
            "240/240 [==============================] - 22s 91ms/step - loss: 0.0108 - accuracy: 0.9975 - val_loss: 0.0768 - val_accuracy: 0.9797\n"
          ]
        }
      ]
    },
    {
      "cell_type": "markdown",
      "source": [
        "##### Training the Tuned Model"
      ],
      "metadata": {
        "id": "6KN_DEk0nmy3"
      }
    },
    {
      "cell_type": "code",
      "source": [
        "# Let's say the best parameters from tuning were:\n",
        "best_params = {\n",
        "    'optimizer': 'adam',\n",
        "    'conv_layers': 3,\n",
        "    'filters': 64\n",
        "}\n",
        "\n",
        "tuned = create_model(**best_params)\n",
        "tuned.summary()\n",
        "\n",
        "cnn_tuned_history = tuned.fit(X_train, y_train, validation_data=(X_test, y_test), epochs=10, batch_size=32)\n"
      ],
      "metadata": {
        "colab": {
          "base_uri": "https://localhost:8080/"
        },
        "id": "V2ikuxQznpEO",
        "outputId": "499b8d4c-ac3b-4530-ea27-198531c507c1"
      },
      "execution_count": null,
      "outputs": [
        {
          "output_type": "stream",
          "name": "stdout",
          "text": [
            "Model: \"sequential_2\"\n",
            "_________________________________________________________________\n",
            " Layer (type)                Output Shape              Param #   \n",
            "=================================================================\n",
            " conv2d_4 (Conv2D)           (None, 38, 38, 64)        1792      \n",
            "                                                                 \n",
            " max_pooling2d_3 (MaxPoolin  (None, 19, 19, 64)        0         \n",
            " g2D)                                                            \n",
            "                                                                 \n",
            " conv2d_5 (Conv2D)           (None, 17, 17, 64)        36928     \n",
            "                                                                 \n",
            " max_pooling2d_4 (MaxPoolin  (None, 8, 8, 64)          0         \n",
            " g2D)                                                            \n",
            "                                                                 \n",
            " conv2d_6 (Conv2D)           (None, 6, 6, 64)          36928     \n",
            "                                                                 \n",
            " max_pooling2d_5 (MaxPoolin  (None, 3, 3, 64)          0         \n",
            " g2D)                                                            \n",
            "                                                                 \n",
            " flatten_2 (Flatten)         (None, 576)               0         \n",
            "                                                                 \n",
            " dense_4 (Dense)             (None, 64)                36928     \n",
            "                                                                 \n",
            " dense_5 (Dense)             (None, 6)                 390       \n",
            "                                                                 \n",
            "=================================================================\n",
            "Total params: 112966 (441.27 KB)\n",
            "Trainable params: 112966 (441.27 KB)\n",
            "Non-trainable params: 0 (0.00 Byte)\n",
            "_________________________________________________________________\n",
            "Epoch 1/10\n",
            "240/240 [==============================] - 33s 130ms/step - loss: 0.6193 - accuracy: 0.7745 - val_loss: 0.1755 - val_accuracy: 0.9344\n",
            "Epoch 2/10\n",
            "240/240 [==============================] - 30s 123ms/step - loss: 0.0973 - accuracy: 0.9714 - val_loss: 0.0889 - val_accuracy: 0.9724\n",
            "Epoch 3/10\n",
            "240/240 [==============================] - 30s 127ms/step - loss: 0.0527 - accuracy: 0.9841 - val_loss: 0.0429 - val_accuracy: 0.9870\n",
            "Epoch 4/10\n",
            "240/240 [==============================] - 30s 125ms/step - loss: 0.0344 - accuracy: 0.9891 - val_loss: 0.0435 - val_accuracy: 0.9870\n",
            "Epoch 5/10\n",
            "240/240 [==============================] - 30s 126ms/step - loss: 0.0310 - accuracy: 0.9902 - val_loss: 0.0243 - val_accuracy: 0.9932\n",
            "Epoch 6/10\n",
            "240/240 [==============================] - 29s 122ms/step - loss: 0.0156 - accuracy: 0.9952 - val_loss: 0.0190 - val_accuracy: 0.9932\n",
            "Epoch 7/10\n",
            "240/240 [==============================] - 29s 123ms/step - loss: 0.0238 - accuracy: 0.9930 - val_loss: 0.0583 - val_accuracy: 0.9844\n",
            "Epoch 8/10\n",
            "240/240 [==============================] - 31s 128ms/step - loss: 0.0179 - accuracy: 0.9947 - val_loss: 0.0165 - val_accuracy: 0.9958\n",
            "Epoch 9/10\n",
            "240/240 [==============================] - 30s 126ms/step - loss: 0.0060 - accuracy: 0.9982 - val_loss: 0.0179 - val_accuracy: 0.9958\n",
            "Epoch 10/10\n",
            "240/240 [==============================] - 30s 127ms/step - loss: 0.0023 - accuracy: 0.9997 - val_loss: 0.0179 - val_accuracy: 0.9964\n"
          ]
        }
      ]
    },
    {
      "cell_type": "markdown",
      "source": [
        "##### Comparison"
      ],
      "metadata": {
        "id": "TiWq36F5mvc9"
      }
    },
    {
      "cell_type": "code",
      "source": [
        "# Visualization\n",
        "def plot_comparison(history1, history2, metric):\n",
        "    plt.plot(cnn_baseline_history.history[metric], label=f\"Baseline {metric}\")\n",
        "    plt.plot(cnn_baseline_history.history['val_' + metric], label=f\"Baseline val_{metric}\")\n",
        "    plt.plot(cnn_tuned_history.history[metric], label=f\"Tuned {metric}\")\n",
        "    plt.plot(cnn_tuned_history.history['val_' + metric], label=f\"Tuned val_{metric}\")\n",
        "    plt.title(f\"Comparison of {metric}\")\n",
        "    plt.xlabel('Epochs')\n",
        "    plt.ylabel(metric.capitalize())\n",
        "    plt.legend()\n",
        "    plt.show()\n",
        "\n",
        "# Compare accuracy\n",
        "plot_comparison(cnn_baseline_history, cnn_tuned_history, 'accuracy')\n",
        "# Compare loss\n",
        "plot_comparison(cnn_baseline_history, cnn_tuned_history, 'loss')"
      ],
      "metadata": {
        "colab": {
          "base_uri": "https://localhost:8080/",
          "height": 927
        },
        "id": "c-fs2bu9pqyb",
        "outputId": "76275533-283c-4172-f049-82ceb966df79"
      },
      "execution_count": null,
      "outputs": [
        {
          "output_type": "display_data",
          "data": {
            "text/plain": [
              "<Figure size 640x480 with 1 Axes>"
            ],
            "image/png": "[encoded data removed]"
          },
          "metadata": {}
        },
        {
          "output_type": "display_data",
          "data": {
            "text/plain": [
              "<Figure size 640x480 with 1 Axes>"
            ],
            "image/png": "[encoded data removed]"
          },
          "metadata": {}
        }
      ]
    },
    {
      "cell_type": "markdown",
      "source": [
        "#### Analyzing the above output plots of _accuracy_ and _loss_ for both the **baseline** and the **tuned** models across epochs, we can draw the following conclusions:\n",
        "\n",
        "1. **Accuracy Comparison**:\n",
        "    - **Tuned Model**:\n",
        "        - The accuracy of the tuned model starts off high and remains consistently high throughout the epochs.\n",
        "        - The validation accuracy also remains close to the training accuracy, suggesting that the model generalizes well to unseen data.\n",
        "    - **Baseline Model**:\n",
        "        - The baseline model's accuracy starts lower than that of the tuned model and rises with each epoch.\n",
        "        - There's a clear gap between the training and validation accuracy, which indicates a potential overfitting scenario where the model performs well on the training data but less so on the validation data.\n",
        "    - Comparing the two, the tuned model outperforms the baseline in terms of both training and validation accuracy.\n",
        "\n",
        "2. **Loss Comparison**:\n",
        "    - **Tuned Model**:\n",
        "        - The loss starts off very low and remains consistently low throughout the epochs.\n",
        "        - The validation loss remains close to the training loss, further confirming good generalization.\n",
        "    - **Baseline Model**:\n",
        "        - The training loss for the baseline decreases sharply initially, and then slowly decreases further.\n",
        "        - The validation loss for the baseline is relatively flat, which again suggests overfitting, as the model is getting better on the training data without a corresponding improvement on the validation data.\n",
        "    - The tuned model again clearly outperforms the baseline model in terms of both training and validation loss.\n",
        "\n",
        "**Overall Conclusion**:\n",
        "The tuned model is superior to the baseline model both in terms of accuracy and loss. The tuning process has clearly improved model performance by optimizing hyperparameters and architecture to better suit the dataset.\n",
        "\n",
        "However, it's always essential to also consider other factors:\n",
        "- **Model Complexity**: While the tuned model is more accurate, it might be more complex (depending on the hyperparameters used). This could lead to increased computational resources or time required for predictions.\n",
        "- **Deployment Considerations**: If deploying in resource-constrained environments, you might have to strike a balance between accuracy and model size or computational demands.\n",
        "- **Further Improvements**: While the tuned model is clearly superior now, it's always possible that with more data, further hyperparameter tuning, or other techniques like data augmentation, performance could be further improved.\n",
        "\n",
        "Lastly, while the current results are promising, it's crucial to validate the model's performance on a completely separate test set (if available) to ensure its efficacy in real-world scenarios."
      ],
      "metadata": {
        "id": "SwCJNw7Wps_H"
      }
    },
    {
      "cell_type": "markdown",
      "source": [
        "### Support Vector Machines (SVMs) Study:"
      ],
      "metadata": {
        "id": "V0k9tZaeuX0n"
      }
    },
    {
      "cell_type": "markdown",
      "source": [
        "#### 1) Splitting the data"
      ],
      "metadata": {
        "id": "dLDq1vUpwJ4e"
      }
    },
    {
      "cell_type": "code",
      "source": [
        "# Convert images and labels to numpy arrays\n",
        "images = np.array(images)\n",
        "labels = np.array(labels)\n",
        "\n",
        "# Reshape the images to 1D (flattening)\n",
        "images_flat = images.reshape(images.shape[0], -1)\n",
        "\n",
        "# Split the dataset into 80% training and 20% testing\n",
        "X_train, X_test, y_train, y_test = train_test_split(images_flat, labels, test_size=0.2, random_state=42)\n"
      ],
      "metadata": {
        "id": "Oy7g0FufuWrM"
      },
      "execution_count": null,
      "outputs": []
    },
    {
      "cell_type": "markdown",
      "source": [
        "#### 2) Scale the data (important for SVM)"
      ],
      "metadata": {
        "id": "RJHsbB6AwPrv"
      }
    },
    {
      "cell_type": "code",
      "source": [
        "scaler = StandardScaler()\n",
        "X_train = scaler.fit_transform(X_train)\n",
        "X_test = scaler.transform(X_test)"
      ],
      "metadata": {
        "id": "Co9p6i_HwWZ2"
      },
      "execution_count": null,
      "outputs": []
    },
    {
      "cell_type": "markdown",
      "source": [
        "#### 3) Initialize SVM classifier"
      ],
      "metadata": {
        "id": "NgwFCOtrwezt"
      }
    },
    {
      "cell_type": "code",
      "source": [
        "svm_model = SVC(kernel='linear', C=1)"
      ],
      "metadata": {
        "id": "uhcvbfWLwq6a"
      },
      "execution_count": null,
      "outputs": []
    },
    {
      "cell_type": "markdown",
      "source": [
        "#### 4) Train the classifier\n"
      ],
      "metadata": {
        "id": "N41d5iXSwxKF"
      }
    },
    {
      "cell_type": "code",
      "source": [
        "svm_model.fit(X_train, y_train)"
      ],
      "metadata": {
        "colab": {
          "base_uri": "https://localhost:8080/",
          "height": 75
        },
        "id": "WfWFZbviwuEy",
        "outputId": "82d5dd94-d19d-4310-88a1-85d1eeb64eb0"
      },
      "execution_count": null,
      "outputs": [
        {
          "output_type": "execute_result",
          "data": {
            "text/plain": [
              "SVC(C=1, kernel='linear')"
            ],
            "text/html": [
              "<style>#sk-container-id-2 {color: black;background-color: white;}#sk-container-id-2 pre{padding: 0;}#sk-container-id-2 div.sk-toggleable {background-color: white;}#sk-container-id-2 label.sk-toggleable__label {cursor: pointer;display: block;width: 100%;margin-bottom: 0;padding: 0.3em;box-sizing: border-box;text-align: center;}#sk-container-id-2 label.sk-toggleable__label-arrow:before {content: \"▸\";float: left;margin-right: 0.25em;color: #696969;}#sk-container-id-2 label.sk-toggleable__label-arrow:hover:before {color: black;}#sk-container-id-2 div.sk-estimator:hover label.sk-toggleable__label-arrow:before {color: black;}#sk-container-id-2 div.sk-toggleable__content {max-height: 0;max-width: 0;overflow: hidden;text-align: left;background-color: #f0f8ff;}#sk-container-id-2 div.sk-toggleable__content pre {margin: 0.2em;color: black;border-radius: 0.25em;background-color: #f0f8ff;}#sk-container-id-2 input.sk-toggleable__control:checked~div.sk-toggleable__content {max-height: 200px;max-width: 100%;overflow: auto;}#sk-container-id-2 input.sk-toggleable__control:checked~label.sk-toggleable__label-arrow:before {content: \"▾\";}#sk-container-id-2 div.sk-estimator input.sk-toggleable__control:checked~label.sk-toggleable__label {background-color: #d4ebff;}#sk-container-id-2 div.sk-label input.sk-toggleable__control:checked~label.sk-toggleable__label {background-color: #d4ebff;}#sk-container-id-2 input.sk-hidden--visually {border: 0;clip: rect(1px 1px 1px 1px);clip: rect(1px, 1px, 1px, 1px);height: 1px;margin: -1px;overflow: hidden;padding: 0;position: absolute;width: 1px;}#sk-container-id-2 div.sk-estimator {font-family: monospace;background-color: #f0f8ff;border: 1px dotted black;border-radius: 0.25em;box-sizing: border-box;margin-bottom: 0.5em;}#sk-container-id-2 div.sk-estimator:hover {background-color: #d4ebff;}#sk-container-id-2 div.sk-parallel-item::after {content: \"\";width: 100%;border-bottom: 1px solid gray;flex-grow: 1;}#sk-container-id-2 div.sk-label:hover label.sk-toggleable__label {background-color: #d4ebff;}#sk-container-id-2 div.sk-serial::before {content: \"\";position: absolute;border-left: 1px solid gray;box-sizing: border-box;top: 0;bottom: 0;left: 50%;z-index: 0;}#sk-container-id-2 div.sk-serial {display: flex;flex-direction: column;align-items: center;background-color: white;padding-right: 0.2em;padding-left: 0.2em;position: relative;}#sk-container-id-2 div.sk-item {position: relative;z-index: 1;}#sk-container-id-2 div.sk-parallel {display: flex;align-items: stretch;justify-content: center;background-color: white;position: relative;}#sk-container-id-2 div.sk-item::before, #sk-container-id-2 div.sk-parallel-item::before {content: \"\";position: absolute;border-left: 1px solid gray;box-sizing: border-box;top: 0;bottom: 0;left: 50%;z-index: -1;}#sk-container-id-2 div.sk-parallel-item {display: flex;flex-direction: column;z-index: 1;position: relative;background-color: white;}#sk-container-id-2 div.sk-parallel-item:first-child::after {align-self: flex-end;width: 50%;}#sk-container-id-2 div.sk-parallel-item:last-child::after {align-self: flex-start;width: 50%;}#sk-container-id-2 div.sk-parallel-item:only-child::after {width: 0;}#sk-container-id-2 div.sk-dashed-wrapped {border: 1px dashed gray;margin: 0 0.4em 0.5em 0.4em;box-sizing: border-box;padding-bottom: 0.4em;background-color: white;}#sk-container-id-2 div.sk-label label {font-family: monospace;font-weight: bold;display: inline-block;line-height: 1.2em;}#sk-container-id-2 div.sk-label-container {text-align: center;}#sk-container-id-2 div.sk-container {/* jupyter's `normalize.less` sets `[hidden] { display: none; }` but bootstrap.min.css set `[hidden] { display: none !important; }` so we also need the `!important` here to be able to override the default hidden behavior on the sphinx rendered scikit-learn.org. See: https://github.com/scikit-learn/scikit-learn/issues/21755 */display: inline-block !important;position: relative;}#sk-container-id-2 div.sk-text-repr-fallback {display: none;}</style><div id=\"sk-container-id-2\" class=\"sk-top-container\"><div class=\"sk-text-repr-fallback\"><pre>SVC(C=1, kernel=&#x27;linear&#x27;)</pre><b>In a Jupyter environment, please rerun this cell to show the HTML representation or trust the notebook. <br />On GitHub, the HTML representation is unable to render, please try loading this page with nbviewer.org.</b></div><div class=\"sk-container\" hidden><div class=\"sk-item\"><div class=\"sk-estimator sk-toggleable\"><input class=\"sk-toggleable__control sk-hidden--visually\" id=\"sk-estimator-id-2\" type=\"checkbox\" checked><label for=\"sk-estimator-id-2\" class=\"sk-toggleable__label sk-toggleable__label-arrow\">SVC</label><div class=\"sk-toggleable__content\"><pre>SVC(C=1, kernel=&#x27;linear&#x27;)</pre></div></div></div></div></div>"
            ]
          },
          "metadata": {},
          "execution_count": 45
        }
      ]
    },
    {
      "cell_type": "markdown",
      "source": [
        "#### 5) Predict labels for test data"
      ],
      "metadata": {
        "id": "5UTv440dw8Hc"
      }
    },
    {
      "cell_type": "code",
      "source": [
        "y_pred = svm_model.predict(X_test)"
      ],
      "metadata": {
        "id": "Eo3eBy_ewuU_"
      },
      "execution_count": null,
      "outputs": []
    },
    {
      "cell_type": "markdown",
      "source": [
        "#### 6) Calculate accuracy\n"
      ],
      "metadata": {
        "id": "oeKVe_XAxGdf"
      }
    },
    {
      "cell_type": "code",
      "source": [
        "svm_baseline_accuracy = accuracy_score(y_test, y_pred)\n",
        "print(f\"Accuracy of SVM: {svm_baseline_accuracy*100:.2f}%\")"
      ],
      "metadata": {
        "colab": {
          "base_uri": "https://localhost:8080/"
        },
        "id": "n3ZlqKouxIyL",
        "outputId": "2ec56d40-dfa5-46ca-807e-48da1a367cfd"
      },
      "execution_count": null,
      "outputs": [
        {
          "output_type": "stream",
          "name": "stdout",
          "text": [
            "Accuracy of SVM: 97.86%\n"
          ]
        }
      ]
    },
    {
      "cell_type": "markdown",
      "source": [
        "#### Tuning"
      ],
      "metadata": {
        "id": "ZNiMh7Rg1jT3"
      }
    },
    {
      "cell_type": "markdown",
      "source": [
        "##### 1. Grid Search\n",
        "\n",
        " - Train SVM models using different parameter combinations.\n",
        " - Find the best combination.\n",
        " - Evaluate its accuracy on the test set."
      ],
      "metadata": {
        "id": "LHZOCD-f15f_"
      }
    },
    {
      "cell_type": "code",
      "source": [
        "# Define params\n",
        "#param_grid = {\n",
        "#    'C': [0.1, 1, 10, 100],\n",
        "#    'kernel': ['linear', 'rbf', 'poly', 'sigmoid'],\n",
        "#    'degree': [2, 3, 4],\n",
        "#    'gamma': ['scale', 'auto']\n",
        "#}\n",
        "\n",
        "# Initialize Grid Search model\n",
        "#svm_grid_search = GridSearchCV(SVC(), param_grid, cv=5, verbose=2, n_jobs=-1)\n",
        "\n",
        "#Train SVM models using different parameter combinations.\n",
        "#svm_grid_search.fit(X_train, y_train)\n",
        "\n",
        "# Mesure accuracy\n",
        "#svm_grid_accuracy = accuracy_score(y_test, svm_grid_search.predict(X_test))\n"
      ],
      "metadata": {
        "id": "mle07aAgwuqZ"
      },
      "execution_count": null,
      "outputs": []
    },
    {
      "cell_type": "markdown",
      "source": [
        "##### 2. Randomized Search:\n",
        "\n",
        "Train SVM models using a random selection of parameter combinations.\n",
        "Find the best combination.\n",
        "Evaluate its accuracy on the test set."
      ],
      "metadata": {
        "id": "Uwiz670l2szb"
      }
    },
    {
      "cell_type": "code",
      "source": [
        "# Define params\n",
        "#param_dist = {\n",
        "#    'C': reciprocal(0.1, 1000),\n",
        "#    'kernel': ['linear', 'rbf', 'poly', 'sigmoid'],\n",
        "#    'degree': [2, 3, 4],\n",
        "#    'gamma': ['scale', 'auto']\n",
        "#}\n",
        "\n",
        "# Initialize RandomizedSearchCV model\n",
        "#svm_rand_search = RandomizedSearchCV(SVC(), param_distributions=param_dist, n_iter=100, cv=5, verbose=2, n_jobs=-1)\n",
        "\n",
        "#Train RandomizedSearchCV model using different parameter combinations.\n",
        "#svm_rand_search.fit(X_train, y_train)\n",
        "\n",
        "# Mesure accuracy\n",
        "#svm_rand_accuracy = accuracy_score(y_test, svm_rand_search.predict(X_test))\n"
      ],
      "metadata": {
        "id": "x8csPucS2xqO"
      },
      "execution_count": null,
      "outputs": []
    },
    {
      "cell_type": "markdown",
      "source": [
        "##### 3. Bayesian Optimization:\n",
        "\n",
        " - Use Bayesian optimization to find the best parameter combination.\n",
        " - Train the SVM model with this combination.\n",
        " - Evaluate its accuracy on the test set."
      ],
      "metadata": {
        "id": "qVXjPU4c2ysH"
      }
    },
    {
      "cell_type": "code",
      "source": [
        "# Define the objective function for Bayesian Optimization\n",
        "def objective(params):\n",
        "    clf = SVC(**params)\n",
        "    acc = cross_val_score(clf, X_train, y_train, cv=5).mean()\n",
        "    return {'loss': -acc, 'status': STATUS_OK}\n",
        "\n",
        "# Define the space of hyperparameters to search\n",
        "space = {\n",
        "    'C': hp.loguniform('C', np.log(0.1), np.log(1000)),\n",
        "    'kernel': hp.choice('kernel', ['linear', 'rbf', 'poly', 'sigmoid']),\n",
        "    'degree': hp.choice('degree', [2, 3, 4]),\n",
        "    'gamma': hp.choice('gamma', ['scale', 'auto'])\n",
        "}\n",
        "\n",
        "# Run the optimization\n",
        "trials = Trials()\n",
        "best = fmin(fn=objective, space=space, algo=tpe.suggest, max_evals=50, trials=trials)\n",
        "\n",
        "best_params = {\n",
        "    'C': best['C'],\n",
        "    'kernel': ['linear', 'rbf', 'poly', 'sigmoid'][best['kernel']],\n",
        "    'degree': [2, 3, 4][best['degree']],\n",
        "    'gamma': ['scale', 'auto'][best['gamma']]\n",
        "}\n",
        "\n",
        "clf = SVC(**best_params)\n",
        "clf.fit(X_train, y_train)\n",
        "svm_bayes_accuracy = accuracy_score(y_test, clf.predict(X_test))\n"
      ],
      "metadata": {
        "colab": {
          "base_uri": "https://localhost:8080/",
          "height": 417
        },
        "id": "tpHqGIxa2eVT",
        "outputId": "61e5783d-b416-4939-cb1f-8a23153da4aa"
      },
      "execution_count": null,
      "outputs": [
        {
          "output_type": "stream",
          "name": "stdout",
          "text": [
            "  6%|▌         | 3/50 [37:08<9:42:00, 742.99s/trial, best loss: -0.9907552083333332] \n"
          ]
        },
        {
          "output_type": "error",
          "ename": "KeyboardInterrupt",
          "evalue": "ignored",
          "traceback": [
            "\u001b[0;31m---------------------------------------------------------------------------\u001b[0m",
            "\u001b[0;31mKeyboardInterrupt\u001b[0m                         Traceback (most recent call last)",
            "\u001b[0;32m<ipython-input-28-3d3db831cb55>\u001b[0m in \u001b[0;36m<cell line: 17>\u001b[0;34m()\u001b[0m\n\u001b[1;32m     15\u001b[0m \u001b[0;31m# Run the optimization\u001b[0m\u001b[0;34m\u001b[0m\u001b[0;34m\u001b[0m\u001b[0m\n\u001b[1;32m     16\u001b[0m \u001b[0mtrials\u001b[0m \u001b[0;34m=\u001b[0m \u001b[0mTrials\u001b[0m\u001b[0;34m(\u001b[0m\u001b[0;34m)\u001b[0m\u001b[0;34m\u001b[0m\u001b[0;34m\u001b[0m\u001b[0m\n\u001b[0;32m---> 17\u001b[0;31m \u001b[0mbest\u001b[0m \u001b[0;34m=\u001b[0m \u001b[0mfmin\u001b[0m\u001b[0;34m(\u001b[0m\u001b[0mfn\u001b[0m\u001b[0;34m=\u001b[0m\u001b[0mobjective\u001b[0m\u001b[0;34m,\u001b[0m \u001b[0mspace\u001b[0m\u001b[0;34m=\u001b[0m\u001b[0mspace\u001b[0m\u001b[0;34m,\u001b[0m \u001b[0malgo\u001b[0m\u001b[0;34m=\u001b[0m\u001b[0mtpe\u001b[0m\u001b[0;34m.\u001b[0m\u001b[0msuggest\u001b[0m\u001b[0;34m,\u001b[0m \u001b[0mmax_evals\u001b[0m\u001b[0;34m=\u001b[0m\u001b[0;36m50\u001b[0m\u001b[0;34m,\u001b[0m \u001b[0mtrials\u001b[0m\u001b[0;34m=\u001b[0m\u001b[0mtrials\u001b[0m\u001b[0;34m)\u001b[0m\u001b[0;34m\u001b[0m\u001b[0;34m\u001b[0m\u001b[0m\n\u001b[0m\u001b[1;32m     18\u001b[0m \u001b[0;34m\u001b[0m\u001b[0m\n\u001b[1;32m     19\u001b[0m best_params = {\n",
            "\u001b[0;32m/usr/local/lib/python3.10/dist-packages/hyperopt/fmin.py\u001b[0m in \u001b[0;36mfmin\u001b[0;34m(fn, space, algo, max_evals, timeout, loss_threshold, trials, rstate, allow_trials_fmin, pass_expr_memo_ctrl, catch_eval_exceptions, verbose, return_argmin, points_to_evaluate, max_queue_len, show_progressbar, early_stop_fn, trials_save_file)\u001b[0m\n\u001b[1;32m    538\u001b[0m \u001b[0;34m\u001b[0m\u001b[0m\n\u001b[1;32m    539\u001b[0m     \u001b[0;32mif\u001b[0m \u001b[0mallow_trials_fmin\u001b[0m \u001b[0;32mand\u001b[0m \u001b[0mhasattr\u001b[0m\u001b[0;34m(\u001b[0m\u001b[0mtrials\u001b[0m\u001b[0;34m,\u001b[0m \u001b[0;34m\"fmin\"\u001b[0m\u001b[0;34m)\u001b[0m\u001b[0;34m:\u001b[0m\u001b[0;34m\u001b[0m\u001b[0;34m\u001b[0m\u001b[0m\n\u001b[0;32m--> 540\u001b[0;31m         return trials.fmin(\n\u001b[0m\u001b[1;32m    541\u001b[0m             \u001b[0mfn\u001b[0m\u001b[0;34m,\u001b[0m\u001b[0;34m\u001b[0m\u001b[0;34m\u001b[0m\u001b[0m\n\u001b[1;32m    542\u001b[0m             \u001b[0mspace\u001b[0m\u001b[0;34m,\u001b[0m\u001b[0;34m\u001b[0m\u001b[0;34m\u001b[0m\u001b[0m\n",
            "\u001b[0;32m/usr/local/lib/python3.10/dist-packages/hyperopt/base.py\u001b[0m in \u001b[0;36mfmin\u001b[0;34m(self, fn, space, algo, max_evals, timeout, loss_threshold, max_queue_len, rstate, verbose, pass_expr_memo_ctrl, catch_eval_exceptions, return_argmin, show_progressbar, early_stop_fn, trials_save_file)\u001b[0m\n\u001b[1;32m    669\u001b[0m         \u001b[0;32mfrom\u001b[0m \u001b[0;34m.\u001b[0m\u001b[0mfmin\u001b[0m \u001b[0;32mimport\u001b[0m \u001b[0mfmin\u001b[0m\u001b[0;34m\u001b[0m\u001b[0;34m\u001b[0m\u001b[0m\n\u001b[1;32m    670\u001b[0m \u001b[0;34m\u001b[0m\u001b[0m\n\u001b[0;32m--> 671\u001b[0;31m         return fmin(\n\u001b[0m\u001b[1;32m    672\u001b[0m             \u001b[0mfn\u001b[0m\u001b[0;34m,\u001b[0m\u001b[0;34m\u001b[0m\u001b[0;34m\u001b[0m\u001b[0m\n\u001b[1;32m    673\u001b[0m             \u001b[0mspace\u001b[0m\u001b[0;34m,\u001b[0m\u001b[0;34m\u001b[0m\u001b[0;34m\u001b[0m\u001b[0m\n",
            "\u001b[0;32m/usr/local/lib/python3.10/dist-packages/hyperopt/fmin.py\u001b[0m in \u001b[0;36mfmin\u001b[0;34m(fn, space, algo, max_evals, timeout, loss_threshold, trials, rstate, allow_trials_fmin, pass_expr_memo_ctrl, catch_eval_exceptions, verbose, return_argmin, points_to_evaluate, max_queue_len, show_progressbar, early_stop_fn, trials_save_file)\u001b[0m\n\u001b[1;32m    584\u001b[0m \u001b[0;34m\u001b[0m\u001b[0m\n\u001b[1;32m    585\u001b[0m     \u001b[0;31m# next line is where the fmin is actually executed\u001b[0m\u001b[0;34m\u001b[0m\u001b[0;34m\u001b[0m\u001b[0m\n\u001b[0;32m--> 586\u001b[0;31m     \u001b[0mrval\u001b[0m\u001b[0;34m.\u001b[0m\u001b[0mexhaust\u001b[0m\u001b[0;34m(\u001b[0m\u001b[0;34m)\u001b[0m\u001b[0;34m\u001b[0m\u001b[0;34m\u001b[0m\u001b[0m\n\u001b[0m\u001b[1;32m    587\u001b[0m \u001b[0;34m\u001b[0m\u001b[0m\n\u001b[1;32m    588\u001b[0m     \u001b[0;32mif\u001b[0m \u001b[0mreturn_argmin\u001b[0m\u001b[0;34m:\u001b[0m\u001b[0;34m\u001b[0m\u001b[0;34m\u001b[0m\u001b[0m\n",
            "\u001b[0;32m/usr/local/lib/python3.10/dist-packages/hyperopt/fmin.py\u001b[0m in \u001b[0;36mexhaust\u001b[0;34m(self)\u001b[0m\n\u001b[1;32m    362\u001b[0m     \u001b[0;32mdef\u001b[0m \u001b[0mexhaust\u001b[0m\u001b[0;34m(\u001b[0m\u001b[0mself\u001b[0m\u001b[0;34m)\u001b[0m\u001b[0;34m:\u001b[0m\u001b[0;34m\u001b[0m\u001b[0;34m\u001b[0m\u001b[0m\n\u001b[1;32m    363\u001b[0m         \u001b[0mn_done\u001b[0m \u001b[0;34m=\u001b[0m \u001b[0mlen\u001b[0m\u001b[0;34m(\u001b[0m\u001b[0mself\u001b[0m\u001b[0;34m.\u001b[0m\u001b[0mtrials\u001b[0m\u001b[0;34m)\u001b[0m\u001b[0;34m\u001b[0m\u001b[0;34m\u001b[0m\u001b[0m\n\u001b[0;32m--> 364\u001b[0;31m         \u001b[0mself\u001b[0m\u001b[0;34m.\u001b[0m\u001b[0mrun\u001b[0m\u001b[0;34m(\u001b[0m\u001b[0mself\u001b[0m\u001b[0;34m.\u001b[0m\u001b[0mmax_evals\u001b[0m \u001b[0;34m-\u001b[0m \u001b[0mn_done\u001b[0m\u001b[0;34m,\u001b[0m \u001b[0mblock_until_done\u001b[0m\u001b[0;34m=\u001b[0m\u001b[0mself\u001b[0m\u001b[0;34m.\u001b[0m\u001b[0masynchronous\u001b[0m\u001b[0;34m)\u001b[0m\u001b[0;34m\u001b[0m\u001b[0;34m\u001b[0m\u001b[0m\n\u001b[0m\u001b[1;32m    365\u001b[0m         \u001b[0mself\u001b[0m\u001b[0;34m.\u001b[0m\u001b[0mtrials\u001b[0m\u001b[0;34m.\u001b[0m\u001b[0mrefresh\u001b[0m\u001b[0;34m(\u001b[0m\u001b[0;34m)\u001b[0m\u001b[0;34m\u001b[0m\u001b[0;34m\u001b[0m\u001b[0m\n\u001b[1;32m    366\u001b[0m         \u001b[0;32mreturn\u001b[0m \u001b[0mself\u001b[0m\u001b[0;34m\u001b[0m\u001b[0;34m\u001b[0m\u001b[0m\n",
            "\u001b[0;32m/usr/local/lib/python3.10/dist-packages/hyperopt/fmin.py\u001b[0m in \u001b[0;36mrun\u001b[0;34m(self, N, block_until_done)\u001b[0m\n\u001b[1;32m    298\u001b[0m                 \u001b[0;32melse\u001b[0m\u001b[0;34m:\u001b[0m\u001b[0;34m\u001b[0m\u001b[0;34m\u001b[0m\u001b[0m\n\u001b[1;32m    299\u001b[0m                     \u001b[0;31m# -- loop over trials and do the jobs directly\u001b[0m\u001b[0;34m\u001b[0m\u001b[0;34m\u001b[0m\u001b[0m\n\u001b[0;32m--> 300\u001b[0;31m                     \u001b[0mself\u001b[0m\u001b[0;34m.\u001b[0m\u001b[0mserial_evaluate\u001b[0m\u001b[0;34m(\u001b[0m\u001b[0;34m)\u001b[0m\u001b[0;34m\u001b[0m\u001b[0;34m\u001b[0m\u001b[0m\n\u001b[0m\u001b[1;32m    301\u001b[0m \u001b[0;34m\u001b[0m\u001b[0m\n\u001b[1;32m    302\u001b[0m                 \u001b[0mself\u001b[0m\u001b[0;34m.\u001b[0m\u001b[0mtrials\u001b[0m\u001b[0;34m.\u001b[0m\u001b[0mrefresh\u001b[0m\u001b[0;34m(\u001b[0m\u001b[0;34m)\u001b[0m\u001b[0;34m\u001b[0m\u001b[0;34m\u001b[0m\u001b[0m\n",
            "\u001b[0;32m/usr/local/lib/python3.10/dist-packages/hyperopt/fmin.py\u001b[0m in \u001b[0;36mserial_evaluate\u001b[0;34m(self, N)\u001b[0m\n\u001b[1;32m    176\u001b[0m                 \u001b[0mctrl\u001b[0m \u001b[0;34m=\u001b[0m \u001b[0mbase\u001b[0m\u001b[0;34m.\u001b[0m\u001b[0mCtrl\u001b[0m\u001b[0;34m(\u001b[0m\u001b[0mself\u001b[0m\u001b[0;34m.\u001b[0m\u001b[0mtrials\u001b[0m\u001b[0;34m,\u001b[0m \u001b[0mcurrent_trial\u001b[0m\u001b[0;34m=\u001b[0m\u001b[0mtrial\u001b[0m\u001b[0;34m)\u001b[0m\u001b[0;34m\u001b[0m\u001b[0;34m\u001b[0m\u001b[0m\n\u001b[1;32m    177\u001b[0m                 \u001b[0;32mtry\u001b[0m\u001b[0;34m:\u001b[0m\u001b[0;34m\u001b[0m\u001b[0;34m\u001b[0m\u001b[0m\n\u001b[0;32m--> 178\u001b[0;31m                     \u001b[0mresult\u001b[0m \u001b[0;34m=\u001b[0m \u001b[0mself\u001b[0m\u001b[0;34m.\u001b[0m\u001b[0mdomain\u001b[0m\u001b[0;34m.\u001b[0m\u001b[0mevaluate\u001b[0m\u001b[0;34m(\u001b[0m\u001b[0mspec\u001b[0m\u001b[0;34m,\u001b[0m \u001b[0mctrl\u001b[0m\u001b[0;34m)\u001b[0m\u001b[0;34m\u001b[0m\u001b[0;34m\u001b[0m\u001b[0m\n\u001b[0m\u001b[1;32m    179\u001b[0m                 \u001b[0;32mexcept\u001b[0m \u001b[0mException\u001b[0m \u001b[0;32mas\u001b[0m \u001b[0me\u001b[0m\u001b[0;34m:\u001b[0m\u001b[0;34m\u001b[0m\u001b[0;34m\u001b[0m\u001b[0m\n\u001b[1;32m    180\u001b[0m                     \u001b[0mlogger\u001b[0m\u001b[0;34m.\u001b[0m\u001b[0merror\u001b[0m\u001b[0;34m(\u001b[0m\u001b[0;34m\"job exception: %s\"\u001b[0m \u001b[0;34m%\u001b[0m \u001b[0mstr\u001b[0m\u001b[0;34m(\u001b[0m\u001b[0me\u001b[0m\u001b[0;34m)\u001b[0m\u001b[0;34m)\u001b[0m\u001b[0;34m\u001b[0m\u001b[0;34m\u001b[0m\u001b[0m\n",
            "\u001b[0;32m/usr/local/lib/python3.10/dist-packages/hyperopt/base.py\u001b[0m in \u001b[0;36mevaluate\u001b[0;34m(self, config, ctrl, attach_attachments)\u001b[0m\n\u001b[1;32m    890\u001b[0m                 \u001b[0mprint_node_on_error\u001b[0m\u001b[0;34m=\u001b[0m\u001b[0mself\u001b[0m\u001b[0;34m.\u001b[0m\u001b[0mrec_eval_print_node_on_error\u001b[0m\u001b[0;34m,\u001b[0m\u001b[0;34m\u001b[0m\u001b[0;34m\u001b[0m\u001b[0m\n\u001b[1;32m    891\u001b[0m             )\n\u001b[0;32m--> 892\u001b[0;31m             \u001b[0mrval\u001b[0m \u001b[0;34m=\u001b[0m \u001b[0mself\u001b[0m\u001b[0;34m.\u001b[0m\u001b[0mfn\u001b[0m\u001b[0;34m(\u001b[0m\u001b[0mpyll_rval\u001b[0m\u001b[0;34m)\u001b[0m\u001b[0;34m\u001b[0m\u001b[0;34m\u001b[0m\u001b[0m\n\u001b[0m\u001b[1;32m    893\u001b[0m \u001b[0;34m\u001b[0m\u001b[0m\n\u001b[1;32m    894\u001b[0m         \u001b[0;32mif\u001b[0m \u001b[0misinstance\u001b[0m\u001b[0;34m(\u001b[0m\u001b[0mrval\u001b[0m\u001b[0;34m,\u001b[0m \u001b[0;34m(\u001b[0m\u001b[0mfloat\u001b[0m\u001b[0;34m,\u001b[0m \u001b[0mint\u001b[0m\u001b[0;34m,\u001b[0m \u001b[0mnp\u001b[0m\u001b[0;34m.\u001b[0m\u001b[0mnumber\u001b[0m\u001b[0;34m)\u001b[0m\u001b[0;34m)\u001b[0m\u001b[0;34m:\u001b[0m\u001b[0;34m\u001b[0m\u001b[0;34m\u001b[0m\u001b[0m\n",
            "\u001b[0;32m<ipython-input-28-3d3db831cb55>\u001b[0m in \u001b[0;36mobjective\u001b[0;34m(params)\u001b[0m\n\u001b[1;32m      2\u001b[0m \u001b[0;32mdef\u001b[0m \u001b[0mobjective\u001b[0m\u001b[0;34m(\u001b[0m\u001b[0mparams\u001b[0m\u001b[0;34m)\u001b[0m\u001b[0;34m:\u001b[0m\u001b[0;34m\u001b[0m\u001b[0;34m\u001b[0m\u001b[0m\n\u001b[1;32m      3\u001b[0m     \u001b[0mclf\u001b[0m \u001b[0;34m=\u001b[0m \u001b[0mSVC\u001b[0m\u001b[0;34m(\u001b[0m\u001b[0;34m**\u001b[0m\u001b[0mparams\u001b[0m\u001b[0;34m)\u001b[0m\u001b[0;34m\u001b[0m\u001b[0;34m\u001b[0m\u001b[0m\n\u001b[0;32m----> 4\u001b[0;31m     \u001b[0macc\u001b[0m \u001b[0;34m=\u001b[0m \u001b[0mcross_val_score\u001b[0m\u001b[0;34m(\u001b[0m\u001b[0mclf\u001b[0m\u001b[0;34m,\u001b[0m \u001b[0mX_train\u001b[0m\u001b[0;34m,\u001b[0m \u001b[0my_train\u001b[0m\u001b[0;34m,\u001b[0m \u001b[0mcv\u001b[0m\u001b[0;34m=\u001b[0m\u001b[0;36m5\u001b[0m\u001b[0;34m)\u001b[0m\u001b[0;34m.\u001b[0m\u001b[0mmean\u001b[0m\u001b[0;34m(\u001b[0m\u001b[0;34m)\u001b[0m\u001b[0;34m\u001b[0m\u001b[0;34m\u001b[0m\u001b[0m\n\u001b[0m\u001b[1;32m      5\u001b[0m     \u001b[0;32mreturn\u001b[0m \u001b[0;34m{\u001b[0m\u001b[0;34m'loss'\u001b[0m\u001b[0;34m:\u001b[0m \u001b[0;34m-\u001b[0m\u001b[0macc\u001b[0m\u001b[0;34m,\u001b[0m \u001b[0;34m'status'\u001b[0m\u001b[0;34m:\u001b[0m \u001b[0mSTATUS_OK\u001b[0m\u001b[0;34m}\u001b[0m\u001b[0;34m\u001b[0m\u001b[0;34m\u001b[0m\u001b[0m\n\u001b[1;32m      6\u001b[0m \u001b[0;34m\u001b[0m\u001b[0m\n",
            "\u001b[0;32m/usr/local/lib/python3.10/dist-packages/sklearn/model_selection/_validation.py\u001b[0m in \u001b[0;36mcross_val_score\u001b[0;34m(estimator, X, y, groups, scoring, cv, n_jobs, verbose, fit_params, pre_dispatch, error_score)\u001b[0m\n\u001b[1;32m    513\u001b[0m     \u001b[0mscorer\u001b[0m \u001b[0;34m=\u001b[0m \u001b[0mcheck_scoring\u001b[0m\u001b[0;34m(\u001b[0m\u001b[0mestimator\u001b[0m\u001b[0;34m,\u001b[0m \u001b[0mscoring\u001b[0m\u001b[0;34m=\u001b[0m\u001b[0mscoring\u001b[0m\u001b[0;34m)\u001b[0m\u001b[0;34m\u001b[0m\u001b[0;34m\u001b[0m\u001b[0m\n\u001b[1;32m    514\u001b[0m \u001b[0;34m\u001b[0m\u001b[0m\n\u001b[0;32m--> 515\u001b[0;31m     cv_results = cross_validate(\n\u001b[0m\u001b[1;32m    516\u001b[0m         \u001b[0mestimator\u001b[0m\u001b[0;34m=\u001b[0m\u001b[0mestimator\u001b[0m\u001b[0;34m,\u001b[0m\u001b[0;34m\u001b[0m\u001b[0;34m\u001b[0m\u001b[0m\n\u001b[1;32m    517\u001b[0m         \u001b[0mX\u001b[0m\u001b[0;34m=\u001b[0m\u001b[0mX\u001b[0m\u001b[0;34m,\u001b[0m\u001b[0;34m\u001b[0m\u001b[0;34m\u001b[0m\u001b[0m\n",
            "\u001b[0;32m/usr/local/lib/python3.10/dist-packages/sklearn/model_selection/_validation.py\u001b[0m in \u001b[0;36mcross_validate\u001b[0;34m(estimator, X, y, groups, scoring, cv, n_jobs, verbose, fit_params, pre_dispatch, return_train_score, return_estimator, error_score)\u001b[0m\n\u001b[1;32m    264\u001b[0m     \u001b[0;31m# independent, and that it is pickle-able.\u001b[0m\u001b[0;34m\u001b[0m\u001b[0;34m\u001b[0m\u001b[0m\n\u001b[1;32m    265\u001b[0m     \u001b[0mparallel\u001b[0m \u001b[0;34m=\u001b[0m \u001b[0mParallel\u001b[0m\u001b[0;34m(\u001b[0m\u001b[0mn_jobs\u001b[0m\u001b[0;34m=\u001b[0m\u001b[0mn_jobs\u001b[0m\u001b[0;34m,\u001b[0m \u001b[0mverbose\u001b[0m\u001b[0;34m=\u001b[0m\u001b[0mverbose\u001b[0m\u001b[0;34m,\u001b[0m \u001b[0mpre_dispatch\u001b[0m\u001b[0;34m=\u001b[0m\u001b[0mpre_dispatch\u001b[0m\u001b[0;34m)\u001b[0m\u001b[0;34m\u001b[0m\u001b[0;34m\u001b[0m\u001b[0m\n\u001b[0;32m--> 266\u001b[0;31m     results = parallel(\n\u001b[0m\u001b[1;32m    267\u001b[0m         delayed(_fit_and_score)(\n\u001b[1;32m    268\u001b[0m             \u001b[0mclone\u001b[0m\u001b[0;34m(\u001b[0m\u001b[0mestimator\u001b[0m\u001b[0;34m)\u001b[0m\u001b[0;34m,\u001b[0m\u001b[0;34m\u001b[0m\u001b[0;34m\u001b[0m\u001b[0m\n",
            "\u001b[0;32m/usr/local/lib/python3.10/dist-packages/sklearn/utils/parallel.py\u001b[0m in \u001b[0;36m__call__\u001b[0;34m(self, iterable)\u001b[0m\n\u001b[1;32m     61\u001b[0m             \u001b[0;32mfor\u001b[0m \u001b[0mdelayed_func\u001b[0m\u001b[0;34m,\u001b[0m \u001b[0margs\u001b[0m\u001b[0;34m,\u001b[0m \u001b[0mkwargs\u001b[0m \u001b[0;32min\u001b[0m \u001b[0miterable\u001b[0m\u001b[0;34m\u001b[0m\u001b[0;34m\u001b[0m\u001b[0m\n\u001b[1;32m     62\u001b[0m         )\n\u001b[0;32m---> 63\u001b[0;31m         \u001b[0;32mreturn\u001b[0m \u001b[0msuper\u001b[0m\u001b[0;34m(\u001b[0m\u001b[0;34m)\u001b[0m\u001b[0;34m.\u001b[0m\u001b[0m__call__\u001b[0m\u001b[0;34m(\u001b[0m\u001b[0miterable_with_config\u001b[0m\u001b[0;34m)\u001b[0m\u001b[0;34m\u001b[0m\u001b[0;34m\u001b[0m\u001b[0m\n\u001b[0m\u001b[1;32m     64\u001b[0m \u001b[0;34m\u001b[0m\u001b[0m\n\u001b[1;32m     65\u001b[0m \u001b[0;34m\u001b[0m\u001b[0m\n",
            "\u001b[0;32m/usr/local/lib/python3.10/dist-packages/joblib/parallel.py\u001b[0m in \u001b[0;36m__call__\u001b[0;34m(self, iterable)\u001b[0m\n\u001b[1;32m   1861\u001b[0m             \u001b[0moutput\u001b[0m \u001b[0;34m=\u001b[0m \u001b[0mself\u001b[0m\u001b[0;34m.\u001b[0m\u001b[0m_get_sequential_output\u001b[0m\u001b[0;34m(\u001b[0m\u001b[0miterable\u001b[0m\u001b[0;34m)\u001b[0m\u001b[0;34m\u001b[0m\u001b[0;34m\u001b[0m\u001b[0m\n\u001b[1;32m   1862\u001b[0m             \u001b[0mnext\u001b[0m\u001b[0;34m(\u001b[0m\u001b[0moutput\u001b[0m\u001b[0;34m)\u001b[0m\u001b[0;34m\u001b[0m\u001b[0;34m\u001b[0m\u001b[0m\n\u001b[0;32m-> 1863\u001b[0;31m             \u001b[0;32mreturn\u001b[0m \u001b[0moutput\u001b[0m \u001b[0;32mif\u001b[0m \u001b[0mself\u001b[0m\u001b[0;34m.\u001b[0m\u001b[0mreturn_generator\u001b[0m \u001b[0;32melse\u001b[0m \u001b[0mlist\u001b[0m\u001b[0;34m(\u001b[0m\u001b[0moutput\u001b[0m\u001b[0;34m)\u001b[0m\u001b[0;34m\u001b[0m\u001b[0;34m\u001b[0m\u001b[0m\n\u001b[0m\u001b[1;32m   1864\u001b[0m \u001b[0;34m\u001b[0m\u001b[0m\n\u001b[1;32m   1865\u001b[0m         \u001b[0;31m# Let's create an ID that uniquely identifies the current call. If the\u001b[0m\u001b[0;34m\u001b[0m\u001b[0;34m\u001b[0m\u001b[0m\n",
            "\u001b[0;32m/usr/local/lib/python3.10/dist-packages/joblib/parallel.py\u001b[0m in \u001b[0;36m_get_sequential_output\u001b[0;34m(self, iterable)\u001b[0m\n\u001b[1;32m   1790\u001b[0m                 \u001b[0mself\u001b[0m\u001b[0;34m.\u001b[0m\u001b[0mn_dispatched_batches\u001b[0m \u001b[0;34m+=\u001b[0m \u001b[0;36m1\u001b[0m\u001b[0;34m\u001b[0m\u001b[0;34m\u001b[0m\u001b[0m\n\u001b[1;32m   1791\u001b[0m                 \u001b[0mself\u001b[0m\u001b[0;34m.\u001b[0m\u001b[0mn_dispatched_tasks\u001b[0m \u001b[0;34m+=\u001b[0m \u001b[0;36m1\u001b[0m\u001b[0;34m\u001b[0m\u001b[0;34m\u001b[0m\u001b[0m\n\u001b[0;32m-> 1792\u001b[0;31m                 \u001b[0mres\u001b[0m \u001b[0;34m=\u001b[0m \u001b[0mfunc\u001b[0m\u001b[0;34m(\u001b[0m\u001b[0;34m*\u001b[0m\u001b[0margs\u001b[0m\u001b[0;34m,\u001b[0m \u001b[0;34m**\u001b[0m\u001b[0mkwargs\u001b[0m\u001b[0;34m)\u001b[0m\u001b[0;34m\u001b[0m\u001b[0;34m\u001b[0m\u001b[0m\n\u001b[0m\u001b[1;32m   1793\u001b[0m                 \u001b[0mself\u001b[0m\u001b[0;34m.\u001b[0m\u001b[0mn_completed_tasks\u001b[0m \u001b[0;34m+=\u001b[0m \u001b[0;36m1\u001b[0m\u001b[0;34m\u001b[0m\u001b[0;34m\u001b[0m\u001b[0m\n\u001b[1;32m   1794\u001b[0m                 \u001b[0mself\u001b[0m\u001b[0;34m.\u001b[0m\u001b[0mprint_progress\u001b[0m\u001b[0;34m(\u001b[0m\u001b[0;34m)\u001b[0m\u001b[0;34m\u001b[0m\u001b[0;34m\u001b[0m\u001b[0m\n",
            "\u001b[0;32m/usr/local/lib/python3.10/dist-packages/sklearn/utils/parallel.py\u001b[0m in \u001b[0;36m__call__\u001b[0;34m(self, *args, **kwargs)\u001b[0m\n\u001b[1;32m    121\u001b[0m             \u001b[0mconfig\u001b[0m \u001b[0;34m=\u001b[0m \u001b[0;34m{\u001b[0m\u001b[0;34m}\u001b[0m\u001b[0;34m\u001b[0m\u001b[0;34m\u001b[0m\u001b[0m\n\u001b[1;32m    122\u001b[0m         \u001b[0;32mwith\u001b[0m \u001b[0mconfig_context\u001b[0m\u001b[0;34m(\u001b[0m\u001b[0;34m**\u001b[0m\u001b[0mconfig\u001b[0m\u001b[0;34m)\u001b[0m\u001b[0;34m:\u001b[0m\u001b[0;34m\u001b[0m\u001b[0;34m\u001b[0m\u001b[0m\n\u001b[0;32m--> 123\u001b[0;31m             \u001b[0;32mreturn\u001b[0m \u001b[0mself\u001b[0m\u001b[0;34m.\u001b[0m\u001b[0mfunction\u001b[0m\u001b[0;34m(\u001b[0m\u001b[0;34m*\u001b[0m\u001b[0margs\u001b[0m\u001b[0;34m,\u001b[0m \u001b[0;34m**\u001b[0m\u001b[0mkwargs\u001b[0m\u001b[0;34m)\u001b[0m\u001b[0;34m\u001b[0m\u001b[0;34m\u001b[0m\u001b[0m\n\u001b[0m",
            "\u001b[0;32m/usr/local/lib/python3.10/dist-packages/sklearn/model_selection/_validation.py\u001b[0m in \u001b[0;36m_fit_and_score\u001b[0;34m(estimator, X, y, scorer, train, test, verbose, parameters, fit_params, return_train_score, return_parameters, return_n_test_samples, return_times, return_estimator, split_progress, candidate_progress, error_score)\u001b[0m\n\u001b[1;32m    684\u001b[0m             \u001b[0mestimator\u001b[0m\u001b[0;34m.\u001b[0m\u001b[0mfit\u001b[0m\u001b[0;34m(\u001b[0m\u001b[0mX_train\u001b[0m\u001b[0;34m,\u001b[0m \u001b[0;34m**\u001b[0m\u001b[0mfit_params\u001b[0m\u001b[0;34m)\u001b[0m\u001b[0;34m\u001b[0m\u001b[0;34m\u001b[0m\u001b[0m\n\u001b[1;32m    685\u001b[0m         \u001b[0;32melse\u001b[0m\u001b[0;34m:\u001b[0m\u001b[0;34m\u001b[0m\u001b[0;34m\u001b[0m\u001b[0m\n\u001b[0;32m--> 686\u001b[0;31m             \u001b[0mestimator\u001b[0m\u001b[0;34m.\u001b[0m\u001b[0mfit\u001b[0m\u001b[0;34m(\u001b[0m\u001b[0mX_train\u001b[0m\u001b[0;34m,\u001b[0m \u001b[0my_train\u001b[0m\u001b[0;34m,\u001b[0m \u001b[0;34m**\u001b[0m\u001b[0mfit_params\u001b[0m\u001b[0;34m)\u001b[0m\u001b[0;34m\u001b[0m\u001b[0;34m\u001b[0m\u001b[0m\n\u001b[0m\u001b[1;32m    687\u001b[0m \u001b[0;34m\u001b[0m\u001b[0m\n\u001b[1;32m    688\u001b[0m     \u001b[0;32mexcept\u001b[0m \u001b[0mException\u001b[0m\u001b[0;34m:\u001b[0m\u001b[0;34m\u001b[0m\u001b[0;34m\u001b[0m\u001b[0m\n",
            "\u001b[0;32m/usr/local/lib/python3.10/dist-packages/sklearn/svm/_base.py\u001b[0m in \u001b[0;36mfit\u001b[0;34m(self, X, y, sample_weight)\u001b[0m\n\u001b[1;32m    250\u001b[0m \u001b[0;34m\u001b[0m\u001b[0m\n\u001b[1;32m    251\u001b[0m         \u001b[0mseed\u001b[0m \u001b[0;34m=\u001b[0m \u001b[0mrnd\u001b[0m\u001b[0;34m.\u001b[0m\u001b[0mrandint\u001b[0m\u001b[0;34m(\u001b[0m\u001b[0mnp\u001b[0m\u001b[0;34m.\u001b[0m\u001b[0miinfo\u001b[0m\u001b[0;34m(\u001b[0m\u001b[0;34m\"i\"\u001b[0m\u001b[0;34m)\u001b[0m\u001b[0;34m.\u001b[0m\u001b[0mmax\u001b[0m\u001b[0;34m)\u001b[0m\u001b[0;34m\u001b[0m\u001b[0;34m\u001b[0m\u001b[0m\n\u001b[0;32m--> 252\u001b[0;31m         \u001b[0mfit\u001b[0m\u001b[0;34m(\u001b[0m\u001b[0mX\u001b[0m\u001b[0;34m,\u001b[0m \u001b[0my\u001b[0m\u001b[0;34m,\u001b[0m \u001b[0msample_weight\u001b[0m\u001b[0;34m,\u001b[0m \u001b[0msolver_type\u001b[0m\u001b[0;34m,\u001b[0m \u001b[0mkernel\u001b[0m\u001b[0;34m,\u001b[0m \u001b[0mrandom_seed\u001b[0m\u001b[0;34m=\u001b[0m\u001b[0mseed\u001b[0m\u001b[0;34m)\u001b[0m\u001b[0;34m\u001b[0m\u001b[0;34m\u001b[0m\u001b[0m\n\u001b[0m\u001b[1;32m    253\u001b[0m         \u001b[0;31m# see comment on the other call to np.iinfo in this file\u001b[0m\u001b[0;34m\u001b[0m\u001b[0;34m\u001b[0m\u001b[0m\n\u001b[1;32m    254\u001b[0m \u001b[0;34m\u001b[0m\u001b[0m\n",
            "\u001b[0;32m/usr/local/lib/python3.10/dist-packages/sklearn/svm/_base.py\u001b[0m in \u001b[0;36m_dense_fit\u001b[0;34m(self, X, y, sample_weight, solver_type, kernel, random_seed)\u001b[0m\n\u001b[1;32m    329\u001b[0m             \u001b[0mself\u001b[0m\u001b[0;34m.\u001b[0m\u001b[0mfit_status_\u001b[0m\u001b[0;34m,\u001b[0m\u001b[0;34m\u001b[0m\u001b[0;34m\u001b[0m\u001b[0m\n\u001b[1;32m    330\u001b[0m             \u001b[0mself\u001b[0m\u001b[0;34m.\u001b[0m\u001b[0m_num_iter\u001b[0m\u001b[0;34m,\u001b[0m\u001b[0;34m\u001b[0m\u001b[0;34m\u001b[0m\u001b[0m\n\u001b[0;32m--> 331\u001b[0;31m         \u001b[0;34m)\u001b[0m \u001b[0;34m=\u001b[0m \u001b[0mlibsvm\u001b[0m\u001b[0;34m.\u001b[0m\u001b[0mfit\u001b[0m\u001b[0;34m(\u001b[0m\u001b[0;34m\u001b[0m\u001b[0;34m\u001b[0m\u001b[0m\n\u001b[0m\u001b[1;32m    332\u001b[0m             \u001b[0mX\u001b[0m\u001b[0;34m,\u001b[0m\u001b[0;34m\u001b[0m\u001b[0;34m\u001b[0m\u001b[0m\n\u001b[1;32m    333\u001b[0m             \u001b[0my\u001b[0m\u001b[0;34m,\u001b[0m\u001b[0;34m\u001b[0m\u001b[0;34m\u001b[0m\u001b[0m\n",
            "\u001b[0;31mKeyboardInterrupt\u001b[0m: "
          ]
        }
      ]
    },
    {
      "cell_type": "markdown",
      "source": [
        "#### Comparison between baseline SVM model and Tuning Parameters"
      ],
      "metadata": {
        "id": "zL74n0-T4G_d"
      }
    },
    {
      "cell_type": "code",
      "source": [
        "accuracies = [svm_baseline_accuracy, svm_bayes_accuracy] # We have removed svm_grid_accuracy, to cost to compute\n",
        "labels = [\"Baseline\", \"Bayesian Opt\"]\n",
        "\n",
        "plt.barh(labels, accuracies)\n",
        "plt.xlabel('Accuracy')\n",
        "plt.ylabel('Method')\n",
        "plt.title('Comparison of SVM Tuning Techniques')\n",
        "plt.show()"
      ],
      "metadata": {
        "id": "vUbwmVjp4S2d"
      },
      "execution_count": null,
      "outputs": []
    },
    {
      "cell_type": "markdown",
      "source": [
        "When you've completed the model training and evaluation using different tuning strategies, you can derive several interpretations and conclusions from your results:\n",
        "\n",
        "**1. Model Performance:**\n",
        "- **Baseline Model**: This gives us the performance of the SVM without any hyperparameter tuning. It sets the benchmark for further improvements.\n",
        "- **Grid Search**: It offers a systematic approach to find the best combination of parameters. However, it can be computationally expensive as it checks all possible combinations.\n",
        "- **Random Search**: By randomly sampling from the distribution of hyperparameters, it might find a better combination in less time than Grid Search. However, there's no certainty that it will always outperform Grid Search.\n",
        "- **Bayesian Optimization**: This technique builds a probabilistic model of the function mapping from hyperparameter values to the objective value. It is usually faster than random and grid search and can achieve similar or even better results with fewer evaluations.\n",
        "\n",
        "**2. Computational Time:**\n",
        "We can comment on the time taken by each method. Typically, Grid Search might take longer due to its exhaustive nature. Bayesian Optimization is expected to be efficient, potentially giving better results with fewer evaluations.\n",
        "\n",
        "**3. Optimal Parameters:**\n",
        "Discuss the optimal parameters found by each method and see if there are commonalities or differences. This can shed light on the stability and reliability of each tuning approach.\n",
        "\n",
        "**Conclusions:**\n",
        "\n",
        "- **Efficacy of Hyperparameter Tuning**: We can conclude about the importance of hyperparameter tuning by comparing the baseline model's performance with tuned models.\n",
        "  \n",
        "- **Best Method for the Dataset**: Depending on the dataset's size, dimensionality, and the distribution of data, some methods might be more effective than others. For example, if Random Search or Bayesian Optimization provides a similar accuracy to Grid Search but in a fraction of the time, it might be the preferred method for larger datasets.\n",
        "\n",
        "- **Recommendation for Future Works**: Depending on your results, we can recommend using a particular method for similar tasks or datasets. If Bayesian Optimization works particularly well, it might be worthwhile to invest in more sophisticated probabilistic modeling techniques for hyperparameter tuning in future projects.\n",
        "\n",
        "- **Potential Improvements**: If the accuracy or performance metric is still not satisfactory, conclude by suggesting other techniques. This could include using different algorithms, gathering more data, feature engineering, ensemble methods, or deeper architectures like CNNs for image tasks.\n"
      ],
      "metadata": {
        "id": "71tzHzHn4mt7"
      }
    },
    {
      "cell_type": "markdown",
      "source": [
        "### Random Forest Study:"
      ],
      "metadata": {
        "id": "m8pZTx2Mj46z"
      }
    },
    {
      "cell_type": "markdown",
      "source": [
        "#### 1) Data Preprocessing:\n",
        "Since Random Forest cannot work directly with image data, we need to reshape the images into a 1D vector."
      ],
      "metadata": {
        "id": "zdiS_xdjkiC3"
      }
    },
    {
      "cell_type": "code",
      "source": [
        "# Reshape the images\n",
        "images = np.array(images).reshape(len(images), -1)\n",
        "\n",
        "# Train-Test Split\n",
        "X_train, X_test, y_train, y_test = train_test_split(images, labels_np, test_size=0.2, random_state=42)\n"
      ],
      "metadata": {
        "id": "aqU3v5aEkmwV"
      },
      "execution_count": null,
      "outputs": []
    },
    {
      "cell_type": "markdown",
      "source": [
        "#### 2) Random Forest Baseline Model:\n"
      ],
      "metadata": {
        "id": "vS7ollv1mPrD"
      }
    },
    {
      "cell_type": "code",
      "source": [
        "rf_model = RandomForestClassifier(random_state=42)\n",
        "rf_model.fit(X_train, y_train)\n",
        "\n",
        "y_pred = rf_model.predict(X_test)\n",
        "rf_baseline_accuracy = accuracy_score(y_test, y_pred)\n",
        "print(f\"Baseline Accuracy: : {rf_baseline_accuracy*100:.2f}%\")\n"
      ],
      "metadata": {
        "colab": {
          "base_uri": "https://localhost:8080/"
        },
        "id": "kQfBAu1oj8l5",
        "outputId": "5f0bb201-6ab0-46c2-f95b-436f97001784"
      },
      "execution_count": null,
      "outputs": [
        {
          "output_type": "stream",
          "name": "stdout",
          "text": [
            "Baseline Accuracy: : 98.59%\n"
          ]
        }
      ]
    },
    {
      "cell_type": "markdown",
      "source": [
        "#### 3) Hyperparameter Tuning:"
      ],
      "metadata": {
        "id": "761zLUMymY8d"
      }
    },
    {
      "cell_type": "markdown",
      "source": [
        "##### 3.1 Grid Search"
      ],
      "metadata": {
        "id": "UXyrYoq_nDPC"
      }
    },
    {
      "cell_type": "code",
      "source": [
        "#param_grid = {\n",
        "#    'n_estimators': [50, 100, 150],\n",
        "#    'max_depth': [None, 10, 20, 30],\n",
        "#    'min_samples_split': [2, 5, 10],\n",
        "#    'min_samples_leaf': [1, 2, 4],\n",
        "#    'bootstrap': [True, False]\n",
        "#}\n",
        "\n",
        "#grid_search = GridSearchCV(estimator=rf_model, param_grid=param_grid,\n",
        "#                           cv=3, n_jobs=-1, verbose=2)\n",
        "\n",
        "#grid_search.fit(X_train, y_train)\n",
        "#rf_grid_search_best_params = grid_search.best_params_\n",
        "#print(f\"Best parameters from Grid Search: {rf_grid_search_best_params}\")\n"
      ],
      "metadata": {
        "id": "YRe4x0WjnGCI"
      },
      "execution_count": null,
      "outputs": []
    },
    {
      "cell_type": "markdown",
      "source": [
        "##### 3.2. Random Search"
      ],
      "metadata": {
        "id": "pNHEH9tYsJqu"
      }
    },
    {
      "cell_type": "code",
      "source": [
        "#random_search = RandomizedSearchCV(estimator=rf_model, param_distributions=param_grid,\n",
        "#                                   n_iter=100, cv=3, verbose=2, random_state=42, n_jobs=-1)\n",
        "\n",
        "#random_search.fit(X_train, y_train)\n",
        "#rf_random_search_best_params = random_search.best_params_\n",
        "#print(f\"Best parameters from Random Search: {rf_random_search_best_params}\")"
      ],
      "metadata": {
        "id": "1KznJ3ZHsW72"
      },
      "execution_count": null,
      "outputs": []
    },
    {
      "cell_type": "markdown",
      "source": [
        "##### 3.3 Bayesian Optimization:"
      ],
      "metadata": {
        "id": "X3_kRkVesrNc"
      }
    },
    {
      "cell_type": "code",
      "source": [
        "def rf_crossval(n_estimators, max_depth, min_samples_split, min_samples_leaf, bootstrap):\n",
        "    # Convert some parameters to integer values\n",
        "    n_estimators = int(n_estimators)\n",
        "    max_depth = int(max_depth)\n",
        "    min_samples_split = int(min_samples_split)\n",
        "    min_samples_leaf = int(min_samples_leaf)\n",
        "    bootstrap = bool(bootstrap)\n",
        "\n",
        "    rf = RandomForestClassifier(n_estimators=n_estimators, max_depth=max_depth,\n",
        "                                min_samples_split=min_samples_split, min_samples_leaf=min_samples_leaf,\n",
        "                                bootstrap=bootstrap, random_state=42, n_jobs=-1)\n",
        "\n",
        "    return np.mean(cross_val_score(rf, X_train, y_train, cv=3, scoring='accuracy'))\n",
        "\n",
        "# Define the bounds for Bayesian optimization\n",
        "bounds = {\n",
        "    'n_estimators': (50, 150),\n",
        "    'max_depth': (5, 50),\n",
        "    'min_samples_split': (2, 11),\n",
        "    'min_samples_leaf': (1, 5),\n",
        "    'bootstrap': (0, 1)\n",
        "}\n",
        "\n",
        "optimizer = BayesianOptimization(\n",
        "    f=rf_crossval,\n",
        "    pbounds=bounds,\n",
        "    random_state=42\n",
        ")\n",
        "\n",
        "optimizer.maximize(init_points=5, n_iter=10)\n",
        "rf_bayes_best_params = optimizer.max['params']\n",
        "print(f\"Best parameters from Bayesian Optimization: {rf_bayes_best_params}\")\n"
      ],
      "metadata": {
        "colab": {
          "base_uri": "https://localhost:8080/"
        },
        "id": "-AMDNQKBstiT",
        "outputId": "8b31f345-4710-4078-c78e-1bbe0582a6e7"
      },
      "execution_count": null,
      "outputs": [
        {
          "output_type": "stream",
          "name": "stdout",
          "text": [
            "|   iter    |  target   | bootstrap | max_depth | min_sa... | min_sa... | n_esti... |\n",
            "-------------------------------------------------------------------------------------\n",
            "| \u001b[0m1        \u001b[0m | \u001b[0m0.9691   \u001b[0m | \u001b[0m0.3745   \u001b[0m | \u001b[0m47.78    \u001b[0m | \u001b[0m3.928    \u001b[0m | \u001b[0m7.388    \u001b[0m | \u001b[0m65.6     \u001b[0m |\n",
            "| \u001b[0m2        \u001b[0m | \u001b[0m0.9259   \u001b[0m | \u001b[0m0.156    \u001b[0m | \u001b[0m7.614    \u001b[0m | \u001b[0m4.465    \u001b[0m | \u001b[0m7.41     \u001b[0m | \u001b[0m120.8    \u001b[0m |\n",
            "| \u001b[0m3        \u001b[0m | \u001b[0m0.9677   \u001b[0m | \u001b[0m0.02058  \u001b[0m | \u001b[0m48.65    \u001b[0m | \u001b[0m4.33     \u001b[0m | \u001b[0m3.911    \u001b[0m | \u001b[0m68.18    \u001b[0m |\n",
            "| \u001b[95m4        \u001b[0m | \u001b[95m0.9721   \u001b[0m | \u001b[95m0.1834   \u001b[0m | \u001b[95m18.69    \u001b[0m | \u001b[95m3.099    \u001b[0m | \u001b[95m5.888    \u001b[0m | \u001b[95m79.12    \u001b[0m |\n",
            "| \u001b[0m5        \u001b[0m | \u001b[0m0.9701   \u001b[0m | \u001b[0m0.6119   \u001b[0m | \u001b[0m11.28    \u001b[0m | \u001b[0m2.169    \u001b[0m | \u001b[0m5.297    \u001b[0m | \u001b[0m95.61    \u001b[0m |\n",
            "| \u001b[0m6        \u001b[0m | \u001b[0m0.9678   \u001b[0m | \u001b[0m1.0      \u001b[0m | \u001b[0m15.5     \u001b[0m | \u001b[0m1.0      \u001b[0m | \u001b[0m11.0     \u001b[0m | \u001b[0m50.0     \u001b[0m |\n",
            "| \u001b[0m7        \u001b[0m | \u001b[0m0.9719   \u001b[0m | \u001b[0m1.0      \u001b[0m | \u001b[0m50.0     \u001b[0m | \u001b[0m1.0      \u001b[0m | \u001b[0m11.0     \u001b[0m | \u001b[0m97.87    \u001b[0m |\n",
            "| \u001b[95m8        \u001b[0m | \u001b[95m0.9781   \u001b[0m | \u001b[95m1.0      \u001b[0m | \u001b[95m50.0     \u001b[0m | \u001b[95m1.0      \u001b[0m | \u001b[95m2.0      \u001b[0m | \u001b[95m150.0    \u001b[0m |\n",
            "| \u001b[0m9        \u001b[0m | \u001b[0m0.9686   \u001b[0m | \u001b[0m1.0      \u001b[0m | \u001b[0m50.0     \u001b[0m | \u001b[0m4.668    \u001b[0m | \u001b[0m11.0     \u001b[0m | \u001b[0m130.6    \u001b[0m |\n",
            "| \u001b[0m10       \u001b[0m | \u001b[0m0.977    \u001b[0m | \u001b[0m0.4231   \u001b[0m | \u001b[0m33.19    \u001b[0m | \u001b[0m1.044    \u001b[0m | \u001b[0m10.21    \u001b[0m | \u001b[0m149.9    \u001b[0m |\n",
            "| \u001b[0m11       \u001b[0m | \u001b[0m0.8137   \u001b[0m | \u001b[0m1.0      \u001b[0m | \u001b[0m5.0      \u001b[0m | \u001b[0m5.0      \u001b[0m | \u001b[0m2.0      \u001b[0m | \u001b[0m68.13    \u001b[0m |\n",
            "| \u001b[0m12       \u001b[0m | \u001b[0m0.971    \u001b[0m | \u001b[0m0.1353   \u001b[0m | \u001b[0m39.86    \u001b[0m | \u001b[0m4.535    \u001b[0m | \u001b[0m2.0      \u001b[0m | \u001b[0m140.6    \u001b[0m |\n",
            "| \u001b[0m13       \u001b[0m | \u001b[0m0.9708   \u001b[0m | \u001b[0m0.07396  \u001b[0m | \u001b[0m29.76    \u001b[0m | \u001b[0m1.859    \u001b[0m | \u001b[0m8.044    \u001b[0m | \u001b[0m88.52    \u001b[0m |\n",
            "| \u001b[0m14       \u001b[0m | \u001b[0m0.9742   \u001b[0m | \u001b[0m0.0      \u001b[0m | \u001b[0m32.49    \u001b[0m | \u001b[0m5.0      \u001b[0m | \u001b[0m11.0     \u001b[0m | \u001b[0m72.72    \u001b[0m |\n",
            "| \u001b[95m15       \u001b[0m | \u001b[95m0.9785   \u001b[0m | \u001b[95m0.0      \u001b[0m | \u001b[95m34.3     \u001b[0m | \u001b[95m1.0      \u001b[0m | \u001b[95m11.0     \u001b[0m | \u001b[95m50.0     \u001b[0m |\n",
            "=====================================================================================\n",
            "Best parameters from Bayesian Optimization: {'bootstrap': 0.0, 'max_depth': 34.30147934529844, 'min_samples_leaf': 1.0, 'min_samples_split': 11.0, 'n_estimators': 50.0}\n"
          ]
        }
      ]
    },
    {
      "cell_type": "markdown",
      "source": [
        "#### 4) Compare Model Performance:\n",
        "\n",
        "After tuning, we train our Random Forest model using the best parameters from each method and then compare their accuracies."
      ],
      "metadata": {
        "id": "FusFuYs8teok"
      }
    },
    {
      "cell_type": "code",
      "source": [
        "# Baseline model\n",
        "rf_baseline = RandomForestClassifier(random_state=42)\n",
        "rf_baseline.fit(X_train, y_train)\n",
        "rf_baseline_accuracy = accuracy_score(y_test, rf_baseline.predict(X_test))"
      ],
      "metadata": {
        "id": "XVoDPHUPth0_"
      },
      "execution_count": null,
      "outputs": []
    },
    {
      "cell_type": "code",
      "source": [
        "\n",
        "# Random Search model\n",
        "#rf_rand = RandomForestClassifier(**rf_random_search_best_params, random_state=42)\n",
        "#rf_rand.fit(X_train, y_train)\n",
        "#rf_rand_accuracy = accuracy_score(y_test, rf_rand.predict(X_test))\n"
      ],
      "metadata": {
        "id": "3R-k6ygbwFrZ"
      },
      "execution_count": null,
      "outputs": []
    },
    {
      "cell_type": "code",
      "source": [
        "\n",
        "# Bayesian Optimization model\n",
        "bayes_params_int = {\n",
        "    'n_estimators': int(rf_bayes_best_params['n_estimators']),\n",
        "    'max_depth': int(rf_bayes_best_params['max_depth']),\n",
        "    'min_samples_split': int(rf_bayes_best_params['min_samples_split']),\n",
        "    'min_samples_leaf': int(rf_bayes_best_params['min_samples_leaf']),\n",
        "    'bootstrap': bool(rf_bayes_best_params['bootstrap'])\n",
        "}\n",
        "\n",
        "rf_bayes = RandomForestClassifier(**bayes_params_int, random_state=42)\n",
        "rf_bayes.fit(X_train, y_train)\n",
        "rf_bayes_accuracy = accuracy_score(y_test, rf_bayes.predict(X_test))"
      ],
      "metadata": {
        "id": "1FxagqkewGwq"
      },
      "execution_count": null,
      "outputs": []
    },
    {
      "cell_type": "code",
      "source": [
        "# Plotting\n",
        "accuracies = [rf_baseline_accuracy, rf_bayes_accuracy]\n",
        "labels = [\"Baseline\", \"Bayesian Opt\"]\n",
        "\n",
        "plt.barh(labels, accuracies)\n",
        "plt.xlabel('Accuracy')\n",
        "plt.ylabel('Method')\n",
        "plt.title('Comparison of Random Forest Tuning Techniques')\n",
        "plt.show()"
      ],
      "metadata": {
        "colab": {
          "base_uri": "https://localhost:8080/",
          "height": 472
        },
        "id": "kL-v1sE1wJy-",
        "outputId": "300f4b60-27c0-40a1-e96e-6dbd7aafd9da"
      },
      "execution_count": null,
      "outputs": [
        {
          "output_type": "display_data",
          "data": {
            "text/plain": [
              "<Figure size 640x480 with 1 Axes>"
            ],
            "image/png": "[encoded data removed]"
          },
          "metadata": {}
        }
      ]
    },
    {
      "cell_type": "markdown",
      "source": [
        "## Compare three or more classifiers, try parameter tuning for better results, and discuss the results."
      ],
      "metadata": {
        "id": "dgk0wsrpo-C5"
      }
    },
    {
      "cell_type": "code",
      "source": [],
      "metadata": {
        "id": "yVT2S6FZipH8"
      },
      "execution_count": null,
      "outputs": []
    },
    {
      "cell_type": "code",
      "source": [],
      "metadata": {
        "id": "n2QwRbriskBj"
      },
      "execution_count": null,
      "outputs": []
    },
    {
      "cell_type": "code",
      "source": [],
      "metadata": {
        "id": "hE9TlzS6pIwD"
      },
      "execution_count": null,
      "outputs": []
    }
  ]
}